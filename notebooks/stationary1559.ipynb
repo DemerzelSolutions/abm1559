{
 "cells": [
  {
   "cell_type": "markdown",
   "metadata": {},
   "source": [
    "# Stationary behaviour of EIP 1559 agent-based model\n",
    "\n",
    "###### July 2020, [@barnabemonnot](https://twitter.com/barnabemonnot)\n",
    "###### [Robust Incentives Group](https://github.com/ethereum/rig), Ethereum Foundation\n",
    "\n",
    "---\n",
    "\n",
    "We introduce here the building blocks of agent-based simulations of EIP1559. This follows an [earlier notebook](https://nbviewer.jupyter.org/github/ethereum/rig/blob/master/eip1559/eip1559.ipynb) that merely looked at the dynamics of the EIP 1559 mechanism. In the present notebook, agents decide on transactions based on the current basefee and form their transactions based on internal evaluations of their values and costs.\n",
    "\n",
    "[Huberman et al., 2019](https://papers.ssrn.com/sol3/papers.cfm?abstract_id=3025604) introduced such a model and framework for the Bitcoin payment system. We adapt it here to study the dynamics of the basefee.\n",
    "\n",
    "All the code is available in [this repo](https://github.com/barnabemonnot/abm1559), with some preliminary documentation [here](https://barnabemonnot.com/abm1559/build/html/). You can also download the [`abm1559` package from PyPi](https://pypi.org/project/abm1559/) and reproduce all the analysis here yourself!\n",
    "\n",
    "## The broad lines\n",
    "\n",
    "We have several entities. _Users_ come in randomly (following a Poisson process) and create and send transactions. The transactions are received by a _transaction pool_, from which the $x$ best _valid_ transactions are included in a _block_ created at fixed intervals. $x$ depends on how many valid transactions exist in the pool (e.g., how many post a gasprice exceeding the prevailing basefee in 1559 paradigm) and the block gas limit. Once transactions are included in the block, and the block is included in the _chain_, transactions are removed from the transaction pool.\n",
    "\n",
    "How do users set their parameters? Users have their own internal ways of evaluating their _costs_. Users obtain a certain _value_ from having their transaction included, which we call $v$. $v$ is different for every user. This value is fixed but their overall _payoff_ decreases the longer they wait to be included. Some users have higher time preferences than others, and their payoff decreases faster than others the longer they wait. Put together, we have the following:\n",
    "\n",
    "$$ \\texttt{payoff} = \\texttt{value} - \\texttt{cost from waiting} - \\texttt{transaction fee} $$\n",
    "\n",
    "Users expect to wait for a certain amount of time. In this essay, we set this to a fixed value -- somewhat arbitrarily we choose 5. This can be readily understood in the following way. Users estimate what their payoff will be from getting included 5 blocks from now, assuming basefee remains constant. If this payoff is negative, they decide not to send the transaction to the pool (in queuing terminology, they _balk_). We'll play with this assumption later.\n",
    "\n",
    "The scenario is set up this way to study _stationarity_: assuming some demand comes in from a fixed distribution at regular intervals, we must expect basefee to reach some stationary value and stay there. It is then reasonable for users, at this stationary point, to consider that 5 blocks from now basefee will still be at the same level. In the nonstationary case, when for instance a systemic change in the demand happens (e.g., the rate of Poisson arrivals increases), a user may want to hedge their bets by estimating their future payoffs in a different way, taking into account that basefee might increase instead. This strategy would probably be a good idea during the _transition_ phase, when basefee shifts from one stationary point to a new one.\n",
    "\n",
    "We make the assumption here that users choose their 1559 parameters based on their value alone. We set the transaction `max_fee` parameter to the value of the user and set the `gas_premium` parameter to a residual value -- 1 Gwei per unit of gas.\n",
    "\n",
    "There is no loss of generality in assuming all users send the same transaction in (e.g., a simple transfer) and so all transactions have the same `gas_used` value (21,000). In 1559 paradigm, with a 20M gas limit per block, this allows at most 952 transactions to be included, although the mechanism will target half of that, around 475 here. The protocol adjusts the basefee to apply economic pressure, towards a target gas usage of 10M per block.\n",
    "\n",
    "## Simulation\n",
    "\n",
    "We import a few classes from our `abm1559` package."
   ]
  },
  {
   "cell_type": "code",
   "execution_count": 1,
   "metadata": {},
   "outputs": [],
   "source": [
    "import os, sys\n",
    "sys.path.insert(1, os.path.realpath(os.path.pardir))\n",
    "# You may remove the two lines above if you have installed abm1559 from pypi\n",
    "\n",
    "from abm1559.utils import constants\n",
    "\n",
    "from abm1559.txpool import TxPool\n",
    "\n",
    "from abm1559.users import User1559, UserPool\n",
    "\n",
    "from abm1559.chain import (\n",
    "    Chain,\n",
    "    Block1559,\n",
    ")\n",
    "\n",
    "from abm1559.simulator import (\n",
    "    spawn_poisson_demand,\n",
    "    decide_transactions,\n",
    "    update_basefee,\n",
    ")\n",
    "\n",
    "import pandas as pd"
   ]
  },
  {
   "cell_type": "markdown",
   "metadata": {},
   "source": [
    "And define the main function used to simulate the fee market."
   ]
  },
  {
   "cell_type": "code",
   "execution_count": 2,
   "metadata": {},
   "outputs": [],
   "source": [
    "def simulate(demand_scenario, UserClass):\n",
    "    # Instantiate a couple of things\n",
    "    txpool = TxPool()\n",
    "    basefee = constants[\"INITIAL_BASEFEE\"]\n",
    "    chain = Chain()\n",
    "    metrics = []\n",
    "    user_pool = UserPool()\n",
    "\n",
    "    for t in range(len(demand_scenario)):\n",
    "        if t % 100 == 0: print(t)\n",
    "\n",
    "        # `params` are the \"environment\" of the simulation\n",
    "        params = {\n",
    "            \"basefee\": basefee,\n",
    "            \"current_block\": t,\n",
    "        }\n",
    "\n",
    "        # We return a demand drawn from a Poisson distribution.\n",
    "        # The parameter is given by `demand_scenario[t]`, and can vary\n",
    "        # over time.\n",
    "        users = spawn_poisson_demand(t, demand_scenario[t], UserClass)\n",
    "        \n",
    "        # Keep users in memory\n",
    "        user_pool.add_users(users)\n",
    "\n",
    "        # We query each new user with the current basefee value\n",
    "        # Users either return a transaction or None if they prefer to balk\n",
    "        decided_txs = decide_transactions(users, params)\n",
    "\n",
    "        # New transactions are added to the transaction pool\n",
    "        txpool.add_txs(decided_txs)\n",
    "\n",
    "        # The best valid transactions are taken out of the pool for inclusion\n",
    "        selected_txs = txpool.select_transactions(params)\n",
    "        txpool.remove_txs([tx.tx_hash for tx in selected_txs])\n",
    "\n",
    "        # We create a block with these transactions\n",
    "        block = Block1559(txs = selected_txs, parent_hash = chain.current_head, height = t, basefee = basefee)\n",
    "\n",
    "        # The block is added to the chain\n",
    "        chain.add_block(block)\n",
    "\n",
    "        # A couple of metrics we will use to monitor the simulation\n",
    "        row_metrics = {\n",
    "            \"block\": t,\n",
    "            \"basefee\": basefee / (10 ** 9),\n",
    "            \"users\": len(users),\n",
    "            \"decided_txs\": len(decided_txs),\n",
    "            \"included_txs\": len(selected_txs),\n",
    "            \"blk_avg_gas_price\": block.average_gas_price(),\n",
    "            \"blk_avg_tip\": block.average_tip(),\n",
    "            \"pool_length\": txpool.pool_length,\n",
    "        }\n",
    "        metrics.append(row_metrics)\n",
    "\n",
    "        # Finally, basefee is updated and a new round starts\n",
    "        basefee = update_basefee(block, basefee)\n",
    "\n",
    "    return (pd.DataFrame(metrics), user_pool, chain)"
   ]
  },
  {
   "cell_type": "markdown",
   "metadata": {},
   "source": [
    "As you can see, `simulate` takes in a `demand_scenario` array. Earlier we mentioned that each round, we draw the number of users wishing to send transactions from a Poisson distribution. [This distribution is parameterised by the expected number of arrivals, called _lambda_ $\\lambda$](https://en.wikipedia.org/wiki/Poisson_distribution). The `demand_scenario` array contains a sequence of such lambda's. We also provide in `UserClass` the type of user we would like to model (see the [docs](http://barnabemonnot.com/abm1559/build/html/#users) for more details).\n",
    "\n",
    "Our users draw their _value_ for the transaction (per unit of gas) from a uniform distribution, picking a random number between 0 and 20 (Gwei). Their cost for waiting one extra unit of time is drawn from a uniform distribution too, this time between 0 and 1 (Gwei). The closer their cost is to 1, the more impatient users are.\n",
    "\n",
    "Say for instance that I value each unit of gas at 15 Gwei, and my cost per round is 0.5 Gwei. If I wait for 6 blocks to be included at a gas price of 10 Gwei, my payoff is $15 - 6 \\times 0.5 - 10 = 2$.\n",
    "\n",
    "The numbers above sound arbitrary, and in a sense they are! They were chosen to respect the scales we are used to ([although gas prices are closer to 100 Gweis these days...](https://ethereum.github.io/rig/ethdata/notebooks/gas_weather_reports/exploreJuly21.html)). It also turns out that any distribution (uniform, Pareto, whatever floats your boat) leads to stationarity. The important part is that _some_ users have positive value for transacting in the first place, enough to fill a block to its target size at least. The choice of sample the cost from a uniform distribution, as opposed to having all users experience the same cost per round, allows for **simulating a scenario where some users are more in a hurry than others**."
   ]
  },
  {
   "cell_type": "code",
   "execution_count": 3,
   "metadata": {},
   "outputs": [
    {
     "name": "stdout",
     "output_type": "stream",
     "text": [
      "0\n",
      "100\n"
     ]
    }
   ],
   "source": [
    "demand_scenario = [2000 for i in range(200)]\n",
    "(df, user_pool, chain) = simulate(demand_scenario, User1559)"
   ]
  },
  {
   "cell_type": "markdown",
   "metadata": {},
   "source": [
    "To study the stationary case, we create an array repeating $\\lambda$ for as many blocks as we wish to simulate the market for. We set $\\lambda$ to spawn on average 2000 users between two blocks."
   ]
  },
  {
   "cell_type": "markdown",
   "metadata": {},
   "source": [
    "## Results\n",
    "\n",
    "Let's print the head and tail of the data frame holding our metrics. Each row corresponds to one round of our simulation, so one block."
   ]
  },
  {
   "cell_type": "code",
   "execution_count": 4,
   "metadata": {},
   "outputs": [
    {
     "data": {
      "text/html": [
       "<div>\n",
       "<style scoped>\n",
       "    .dataframe tbody tr th:only-of-type {\n",
       "        vertical-align: middle;\n",
       "    }\n",
       "\n",
       "    .dataframe tbody tr th {\n",
       "        vertical-align: top;\n",
       "    }\n",
       "\n",
       "    .dataframe thead th {\n",
       "        text-align: right;\n",
       "    }\n",
       "</style>\n",
       "<table border=\"1\" class=\"dataframe\">\n",
       "  <thead>\n",
       "    <tr style=\"text-align: right;\">\n",
       "      <th></th>\n",
       "      <th>block</th>\n",
       "      <th>basefee</th>\n",
       "      <th>users</th>\n",
       "      <th>decided_txs</th>\n",
       "      <th>included_txs</th>\n",
       "      <th>blk_avg_gas_price</th>\n",
       "      <th>blk_avg_tip</th>\n",
       "      <th>pool_length</th>\n",
       "    </tr>\n",
       "  </thead>\n",
       "  <tbody>\n",
       "    <tr>\n",
       "      <th>0</th>\n",
       "      <td>0</td>\n",
       "      <td>1.000000</td>\n",
       "      <td>2104</td>\n",
       "      <td>1600</td>\n",
       "      <td>952</td>\n",
       "      <td>2.000000</td>\n",
       "      <td>1.0</td>\n",
       "      <td>648</td>\n",
       "    </tr>\n",
       "    <tr>\n",
       "      <th>1</th>\n",
       "      <td>1</td>\n",
       "      <td>1.124900</td>\n",
       "      <td>2014</td>\n",
       "      <td>1521</td>\n",
       "      <td>952</td>\n",
       "      <td>2.124900</td>\n",
       "      <td>1.0</td>\n",
       "      <td>1217</td>\n",
       "    </tr>\n",
       "    <tr>\n",
       "      <th>2</th>\n",
       "      <td>2</td>\n",
       "      <td>1.265400</td>\n",
       "      <td>2053</td>\n",
       "      <td>1571</td>\n",
       "      <td>952</td>\n",
       "      <td>2.265400</td>\n",
       "      <td>1.0</td>\n",
       "      <td>1836</td>\n",
       "    </tr>\n",
       "    <tr>\n",
       "      <th>3</th>\n",
       "      <td>3</td>\n",
       "      <td>1.423448</td>\n",
       "      <td>1968</td>\n",
       "      <td>1452</td>\n",
       "      <td>952</td>\n",
       "      <td>2.423448</td>\n",
       "      <td>1.0</td>\n",
       "      <td>2336</td>\n",
       "    </tr>\n",
       "    <tr>\n",
       "      <th>4</th>\n",
       "      <td>4</td>\n",
       "      <td>1.601237</td>\n",
       "      <td>1924</td>\n",
       "      <td>1455</td>\n",
       "      <td>952</td>\n",
       "      <td>2.601237</td>\n",
       "      <td>1.0</td>\n",
       "      <td>2839</td>\n",
       "    </tr>\n",
       "    <tr>\n",
       "      <th>...</th>\n",
       "      <td>...</td>\n",
       "      <td>...</td>\n",
       "      <td>...</td>\n",
       "      <td>...</td>\n",
       "      <td>...</td>\n",
       "      <td>...</td>\n",
       "      <td>...</td>\n",
       "      <td>...</td>\n",
       "    </tr>\n",
       "    <tr>\n",
       "      <th>195</th>\n",
       "      <td>195</td>\n",
       "      <td>11.866290</td>\n",
       "      <td>1934</td>\n",
       "      <td>447</td>\n",
       "      <td>447</td>\n",
       "      <td>12.866290</td>\n",
       "      <td>1.0</td>\n",
       "      <td>1832</td>\n",
       "    </tr>\n",
       "    <tr>\n",
       "      <th>196</th>\n",
       "      <td>196</td>\n",
       "      <td>11.775365</td>\n",
       "      <td>2008</td>\n",
       "      <td>482</td>\n",
       "      <td>482</td>\n",
       "      <td>12.775365</td>\n",
       "      <td>1.0</td>\n",
       "      <td>1832</td>\n",
       "    </tr>\n",
       "    <tr>\n",
       "      <th>197</th>\n",
       "      <td>197</td>\n",
       "      <td>11.793322</td>\n",
       "      <td>2077</td>\n",
       "      <td>471</td>\n",
       "      <td>471</td>\n",
       "      <td>12.793322</td>\n",
       "      <td>1.0</td>\n",
       "      <td>1832</td>\n",
       "    </tr>\n",
       "    <tr>\n",
       "      <th>198</th>\n",
       "      <td>198</td>\n",
       "      <td>11.777254</td>\n",
       "      <td>2031</td>\n",
       "      <td>489</td>\n",
       "      <td>489</td>\n",
       "      <td>12.777254</td>\n",
       "      <td>1.0</td>\n",
       "      <td>1832</td>\n",
       "    </tr>\n",
       "    <tr>\n",
       "      <th>199</th>\n",
       "      <td>199</td>\n",
       "      <td>11.816855</td>\n",
       "      <td>2002</td>\n",
       "      <td>473</td>\n",
       "      <td>473</td>\n",
       "      <td>12.816855</td>\n",
       "      <td>1.0</td>\n",
       "      <td>1832</td>\n",
       "    </tr>\n",
       "  </tbody>\n",
       "</table>\n",
       "<p>200 rows × 8 columns</p>\n",
       "</div>"
      ],
      "text/plain": [
       "     block    basefee  users  decided_txs  included_txs  blk_avg_gas_price  \\\n",
       "0        0   1.000000   2104         1600           952           2.000000   \n",
       "1        1   1.124900   2014         1521           952           2.124900   \n",
       "2        2   1.265400   2053         1571           952           2.265400   \n",
       "3        3   1.423448   1968         1452           952           2.423448   \n",
       "4        4   1.601237   1924         1455           952           2.601237   \n",
       "..     ...        ...    ...          ...           ...                ...   \n",
       "195    195  11.866290   1934          447           447          12.866290   \n",
       "196    196  11.775365   2008          482           482          12.775365   \n",
       "197    197  11.793322   2077          471           471          12.793322   \n",
       "198    198  11.777254   2031          489           489          12.777254   \n",
       "199    199  11.816855   2002          473           473          12.816855   \n",
       "\n",
       "     blk_avg_tip  pool_length  \n",
       "0            1.0          648  \n",
       "1            1.0         1217  \n",
       "2            1.0         1836  \n",
       "3            1.0         2336  \n",
       "4            1.0         2839  \n",
       "..           ...          ...  \n",
       "195          1.0         1832  \n",
       "196          1.0         1832  \n",
       "197          1.0         1832  \n",
       "198          1.0         1832  \n",
       "199          1.0         1832  \n",
       "\n",
       "[200 rows x 8 columns]"
      ]
     },
     "execution_count": 4,
     "metadata": {},
     "output_type": "execute_result"
    }
   ],
   "source": [
    "df"
   ]
  },
  {
   "cell_type": "markdown",
   "metadata": {},
   "source": [
    "At the start of the simulation we clearly see in column `users` a demand close to 2000 users per round. Among these 2000 or so, around 1500 decide to send their transaction in (`decided_txs`). The 500 who don't might have a low value or high per-round costs, meaning it is unprofitable for them to even send their transaction in. Eventually 952 of them are included (`included_txs`), maxing out the block gas limit. The basefee starts at 1 Gwei but steadily increases from there, reaching around 11.8 Gwei by the end.\n",
    "\n",
    "By the end of the simulation, we note that `decided_txs` is always equal to `included_txs`. By this point, the basefee has risen enough to make it unprofitable for most users to send their transactions. This is exactly what we want! Users balk at the current prices.\n",
    "\n",
    "In the next chart we show the evolution of basefee and tips. We define _tip_ as the gas price minus the basefee, which is what _miners_ receive from the transaction.\n",
    "\n",
    "Note that [tip is in general **not** equal to the gas premium](https://twitter.com/barnabemonnot/status/1284271520311848960) that users set. This is particularly true when basefee plus gas premium exceeds the max fee of the user. In the graph below, the tip hovers around 1 Gwei (the premium), but is sometimes less than 1 too, especially when users see the prevailing basefee approach their posted max fees."
   ]
  },
  {
   "cell_type": "code",
   "execution_count": 5,
   "metadata": {},
   "outputs": [
    {
     "data": {
      "text/plain": [
       "<AxesSubplot:xlabel='block'>"
      ]
     },
     "execution_count": 5,
     "metadata": {},
     "output_type": "execute_result"
    },
    {
     "data": {
      "image/png": "[encoded data removed]",
      "text/plain": [
       "<Figure size 432x288 with 1 Axes>"
      ]
     },
     "metadata": {
      "needs_background": "light"
     },
     "output_type": "display_data"
    }
   ],
   "source": [
    "df.plot(\"block\", [\"basefee\", \"blk_avg_tip\"])"
   ]
  },
  {
   "cell_type": "markdown",
   "metadata": {},
   "source": [
    "Notice the increase at the beginning followed by a short drop? At the very beginning, the pool fills up quickly with many users hopeful to get their transactions in with a positive resulting payoff. The basefee increases until users start balking **and** the pool is exhausted. Once exhausted, basefee starts decreasing again to settle at the stationary point where the pool only includes transactions that are invalid given the stationary basefee.\n",
    "\n",
    "We can see the pool length becoming stationary in the next plot, showing the length of the pool over time."
   ]
  },
  {
   "cell_type": "code",
   "execution_count": 6,
   "metadata": {},
   "outputs": [
    {
     "data": {
      "text/plain": [
       "<AxesSubplot:xlabel='block'>"
      ]
     },
     "execution_count": 6,
     "metadata": {},
     "output_type": "execute_result"
    },
    {
     "data": {
      "image/png": "[encoded data removed]",
      "text/plain": [
       "<Figure size 432x288 with 1 Axes>"
      ]
     },
     "metadata": {
      "needs_background": "light"
     },
     "output_type": "display_data"
    }
   ],
   "source": [
    "df.plot(\"block\", \"pool_length\")"
   ]
  },
  {
   "cell_type": "markdown",
   "metadata": {},
   "source": [
    "The remaining transactions are likely from early users who did not balk even though basefee was increasing, and who were quickly outbid by others."
   ]
  },
  {
   "cell_type": "markdown",
   "metadata": {},
   "source": [
    "## Demand shock\n",
    "\n",
    "We look at a stationary setting, where the new demand coming in each new round follows a fixed expected rate of arrival. Demand shocks may be of two kinds:\n",
    "\n",
    "- Same number of users, different values for transactions and costs for waiting.\n",
    "- Increased number of users, same values and costs.\n",
    "\n",
    "We'll consider the second scenario here, simply running the simulation again and increasing the $\\lambda$ parameter of our Poisson arrival process suddenly, from expecting 2000, to expecting 6000 users per round."
   ]
  },
  {
   "cell_type": "code",
   "execution_count": 7,
   "metadata": {},
   "outputs": [
    {
     "name": "stdout",
     "output_type": "stream",
     "text": [
      "0\n",
      "100\n"
     ]
    }
   ],
   "source": [
    "demand_scenario = [2000 for i in range(100)] + [6000 for i in range(100)]\n",
    "(df_jump, user_pool_jump, chain_jump) = simulate(demand_scenario, User1559)"
   ]
  },
  {
   "cell_type": "markdown",
   "metadata": {},
   "source": [
    "The next plot shows the number of new users each round. We note at block 100 a sudden jump from around 2000 new users to 6000."
   ]
  },
  {
   "cell_type": "code",
   "execution_count": 8,
   "metadata": {},
   "outputs": [
    {
     "data": {
      "text/plain": [
       "<AxesSubplot:xlabel='block'>"
      ]
     },
     "execution_count": 8,
     "metadata": {},
     "output_type": "execute_result"
    },
    {
     "data": {
      "image/png": "[encoded data removed]",
      "text/plain": [
       "<Figure size 432x288 with 1 Axes>"
      ]
     },
     "metadata": {
      "needs_background": "light"
     },
     "output_type": "display_data"
    }
   ],
   "source": [
    "df_jump.plot(\"block\", \"users\")"
   ]
  },
  {
   "cell_type": "code",
   "execution_count": 9,
   "metadata": {},
   "outputs": [
    {
     "data": {
      "text/plain": [
       "<AxesSubplot:xlabel='block'>"
      ]
     },
     "execution_count": 9,
     "metadata": {},
     "output_type": "execute_result"
    },
    {
     "data": {
      "image/png": "[encoded data removed]",
      "text/plain": [
       "<Figure size 432x288 with 1 Axes>"
      ]
     },
     "metadata": {
      "needs_background": "light"
     },
     "output_type": "display_data"
    }
   ],
   "source": [
    "df_jump.plot(\"block\", [\"basefee\", \"blk_avg_tip\"])"
   ]
  },
  {
   "cell_type": "markdown",
   "metadata": {},
   "source": [
    "We see a jump around block 100, when the arrival rate of users switches from 2000 to 6000. The basefee increases in response. With a block limit of 20M gas, about 950 transactions fit into each block. Targeting half of this value, the basefee increases until more or less 475 transactions are included in each block.\n",
    "\n",
    "Since our users' values and costs are always drawn from the same distribution, when 2000 users show up, we expect to let in about 25% of them (~ 475 / 2000), the 25% with greatest expected payoff. When 6000 users come in, we now only expect the \"richest\" 8% (~ 475 / 6000) to get in, so we \"raise the bar\" for the basefee, since we need to discriminate more."
   ]
  },
  {
   "cell_type": "code",
   "execution_count": 10,
   "metadata": {},
   "outputs": [
    {
     "data": {
      "text/plain": [
       "<AxesSubplot:xlabel='block'>"
      ]
     },
     "execution_count": 10,
     "metadata": {},
     "output_type": "execute_result"
    },
    {
     "data": {
      "image/png": "[encoded data removed]",
      "text/plain": [
       "<Figure size 432x288 with 1 Axes>"
      ]
     },
     "metadata": {
      "needs_background": "light"
     },
     "output_type": "display_data"
    }
   ],
   "source": [
    "df_jump.plot(\"block\", [\"pool_length\", \"users\", \"decided_txs\", \"included_txs\"])"
   ]
  },
  {
   "cell_type": "markdown",
   "metadata": {},
   "source": [
    "As we see with the graph above, for a short while after block 100, blocks include more than the usual ~475 transactions. This is the transition between the old and the new stationary points.\n",
    "\n",
    "Since we have a lot more new users each round, more of them are willing and able to pay for their transactions above the current basefee, and so get included. This keeps happening until the basefee reaches a new stationary level."
   ]
  },
  {
   "cell_type": "markdown",
   "metadata": {},
   "source": [
    "## Changing expected time\n",
    "\n",
    "Up until now, users decided whether to join the transaction pool or not based on the expectation that they would be included at least 5 blocks after they join. They evaluated their payoff assuming that basefee did not change (due to stationarity) for these 5 blocks. If their value for transacting minus the cost of waiting for 5 blocks minus the cost of transacting is positive, they sent their transactions in!\n",
    "\n",
    "$$ \\texttt{payoff} = \\texttt{value} - \\texttt{cost from waiting 5 blocks} - \\texttt{transaction fee} > 0 $$\n",
    "\n",
    "Under a stationary demand however, users can expect to be included in the next block. So let's decrease the time users expect to wait to 1 block only and see what happens. We do this by subclassing our `User1559` agent and overriding its `expected_time` method."
   ]
  },
  {
   "cell_type": "code",
   "execution_count": 11,
   "metadata": {},
   "outputs": [
    {
     "name": "stdout",
     "output_type": "stream",
     "text": [
      "0\n",
      "100\n"
     ]
    }
   ],
   "source": [
    "class OptimisticUser(User1559):\n",
    "    def expected_time(self, params):\n",
    "        return 1\n",
    "    \n",
    "demand_scenario = [2000 for i in range(100)] + [6000 for i in range(100)]\n",
    "(df_opti, user_pool_opti, chain_opti) = simulate(demand_scenario, OptimisticUser)"
   ]
  },
  {
   "cell_type": "code",
   "execution_count": 12,
   "metadata": {},
   "outputs": [
    {
     "data": {
      "text/plain": [
       "<AxesSubplot:xlabel='block'>"
      ]
     },
     "execution_count": 12,
     "metadata": {},
     "output_type": "execute_result"
    },
    {
     "data": {
      "image/png": "[encoded data removed]",
      "text/plain": [
       "<Figure size 432x288 with 1 Axes>"
      ]
     },
     "metadata": {
      "needs_background": "light"
     },
     "output_type": "display_data"
    }
   ],
   "source": [
    "df_opti.plot(\"block\", [\"basefee\", \"blk_avg_tip\"])"
   ]
  },
  {
   "cell_type": "markdown",
   "metadata": {},
   "source": [
    "The plot looks the same as before. But let's look at the average basefee for the last 50 blocks in this scenario and the last."
   ]
  },
  {
   "cell_type": "code",
   "execution_count": 13,
   "metadata": {},
   "outputs": [
    {
     "data": {
      "text/plain": [
       "basefee    16.901486\n",
       "dtype: float64"
      ]
     },
     "execution_count": 13,
     "metadata": {},
     "output_type": "execute_result"
    }
   ],
   "source": [
    "df_opti[(df.block > 150)][[\"basefee\"]].mean()"
   ]
  },
  {
   "cell_type": "code",
   "execution_count": 14,
   "metadata": {},
   "outputs": [
    {
     "data": {
      "text/plain": [
       "basefee    14.98991\n",
       "dtype: float64"
      ]
     },
     "execution_count": 14,
     "metadata": {},
     "output_type": "execute_result"
    }
   ],
   "source": [
    "df_jump[(df.block > 150)][[\"basefee\"]].mean()"
   ]
  },
  {
   "cell_type": "markdown",
   "metadata": {},
   "source": [
    "When users expect to be included in the next block rather than wait for at least 5, the basefee increases! This makes sense if we come back to our payoff definition:\n",
    "\n",
    "$$ \\texttt{payoff} = \\texttt{value} - \\texttt{cost from waiting} - \\texttt{transaction fee} $$\n",
    "\n",
    "The estimated cost for waiting is lower now since users estimate they'll wait for 1 block and not 5 to get in. Previously, some users with high values but high time preferences might have been discouraged to join the pool. Now these users don't expect to wait as much, and since their values are high, they don't mind bidding for a higher basefee either. We can check indeed that on average, users included in this last scenario have higher values than users included in the previous one.\n",
    "\n",
    "To do so, we export to pandas `DataFrame`s the user pool (to obtain their values and costs) and the chain (to obtain the addresses of included users in the last 50 blocks)."
   ]
  },
  {
   "cell_type": "code",
   "execution_count": 15,
   "metadata": {},
   "outputs": [],
   "source": [
    "user_pool_opti_df = user_pool_opti.export().rename(columns={ \"pub_key\": \"sender\" })\n",
    "chain_opti_df = chain_opti.export()"
   ]
  },
  {
   "cell_type": "markdown",
   "metadata": {},
   "source": [
    "Let's open these up and have a look at the data. `user_pool_opti_df` registers all users we spawned in our simulation."
   ]
  },
  {
   "cell_type": "code",
   "execution_count": 16,
   "metadata": {},
   "outputs": [
    {
     "data": {
      "text/html": [
       "<div>\n",
       "<style scoped>\n",
       "    .dataframe tbody tr th:only-of-type {\n",
       "        vertical-align: middle;\n",
       "    }\n",
       "\n",
       "    .dataframe tbody tr th {\n",
       "        vertical-align: top;\n",
       "    }\n",
       "\n",
       "    .dataframe thead th {\n",
       "        text-align: right;\n",
       "    }\n",
       "</style>\n",
       "<table border=\"1\" class=\"dataframe\">\n",
       "  <thead>\n",
       "    <tr style=\"text-align: right;\">\n",
       "      <th></th>\n",
       "      <th>user</th>\n",
       "      <th>sender</th>\n",
       "      <th>value</th>\n",
       "      <th>wakeup_block</th>\n",
       "      <th>user_type</th>\n",
       "      <th>cost_per_unit</th>\n",
       "    </tr>\n",
       "  </thead>\n",
       "  <tbody>\n",
       "    <tr>\n",
       "      <th>799630</th>\n",
       "      <td>1559 affine user with value 6719249809 and cos...</td>\n",
       "      <td>b'\\x8c\\xb2\\xa5\\xaa\\xa8\\x17fV'</td>\n",
       "      <td>6.719250</td>\n",
       "      <td>199</td>\n",
       "      <td>user_1559</td>\n",
       "      <td>0.713982</td>\n",
       "    </tr>\n",
       "    <tr>\n",
       "      <th>799631</th>\n",
       "      <td>1559 affine user with value 14355881217 and co...</td>\n",
       "      <td>b'\\xf0mg\\xda\\xd7\\xa9\\xf1['</td>\n",
       "      <td>14.355881</td>\n",
       "      <td>199</td>\n",
       "      <td>user_1559</td>\n",
       "      <td>0.405436</td>\n",
       "    </tr>\n",
       "    <tr>\n",
       "      <th>799632</th>\n",
       "      <td>1559 affine user with value 18572494408 and co...</td>\n",
       "      <td>b'\\xa1\\x9d%f\\xff\\xc9\\x0e\\x18'</td>\n",
       "      <td>18.572494</td>\n",
       "      <td>199</td>\n",
       "      <td>user_1559</td>\n",
       "      <td>0.418740</td>\n",
       "    </tr>\n",
       "    <tr>\n",
       "      <th>799633</th>\n",
       "      <td>1559 affine user with value 10034155367 and co...</td>\n",
       "      <td>b'\\xc4\\x01\\xef:X]\\xcc\\x9b'</td>\n",
       "      <td>10.034155</td>\n",
       "      <td>199</td>\n",
       "      <td>user_1559</td>\n",
       "      <td>0.088038</td>\n",
       "    </tr>\n",
       "    <tr>\n",
       "      <th>799634</th>\n",
       "      <td>1559 affine user with value 13952412802 and co...</td>\n",
       "      <td>b'\\xe3w\\x9f\\x83\\xc8\\xd5e\\xc2'</td>\n",
       "      <td>13.952413</td>\n",
       "      <td>199</td>\n",
       "      <td>user_1559</td>\n",
       "      <td>0.180490</td>\n",
       "    </tr>\n",
       "  </tbody>\n",
       "</table>\n",
       "</div>"
      ],
      "text/plain": [
       "                                                     user  \\\n",
       "799630  1559 affine user with value 6719249809 and cos...   \n",
       "799631  1559 affine user with value 14355881217 and co...   \n",
       "799632  1559 affine user with value 18572494408 and co...   \n",
       "799633  1559 affine user with value 10034155367 and co...   \n",
       "799634  1559 affine user with value 13952412802 and co...   \n",
       "\n",
       "                               sender      value  wakeup_block  user_type  \\\n",
       "799630  b'\\x8c\\xb2\\xa5\\xaa\\xa8\\x17fV'   6.719250           199  user_1559   \n",
       "799631     b'\\xf0mg\\xda\\xd7\\xa9\\xf1['  14.355881           199  user_1559   \n",
       "799632  b'\\xa1\\x9d%f\\xff\\xc9\\x0e\\x18'  18.572494           199  user_1559   \n",
       "799633     b'\\xc4\\x01\\xef:X]\\xcc\\x9b'  10.034155           199  user_1559   \n",
       "799634  b'\\xe3w\\x9f\\x83\\xc8\\xd5e\\xc2'  13.952413           199  user_1559   \n",
       "\n",
       "        cost_per_unit  \n",
       "799630       0.713982  \n",
       "799631       0.405436  \n",
       "799632       0.418740  \n",
       "799633       0.088038  \n",
       "799634       0.180490  "
      ]
     },
     "execution_count": 16,
     "metadata": {},
     "output_type": "execute_result"
    }
   ],
   "source": [
    "user_pool_opti_df.tail()"
   ]
  },
  {
   "cell_type": "markdown",
   "metadata": {},
   "source": [
    "Meanwhile, `chain_opti_df` lists all the transactions included in the chain."
   ]
  },
  {
   "cell_type": "code",
   "execution_count": 17,
   "metadata": {},
   "outputs": [
    {
     "data": {
      "text/html": [
       "<div>\n",
       "<style scoped>\n",
       "    .dataframe tbody tr th:only-of-type {\n",
       "        vertical-align: middle;\n",
       "    }\n",
       "\n",
       "    .dataframe tbody tr th {\n",
       "        vertical-align: top;\n",
       "    }\n",
       "\n",
       "    .dataframe thead th {\n",
       "        text-align: right;\n",
       "    }\n",
       "</style>\n",
       "<table border=\"1\" class=\"dataframe\">\n",
       "  <thead>\n",
       "    <tr style=\"text-align: right;\">\n",
       "      <th></th>\n",
       "      <th>block_height</th>\n",
       "      <th>tx_index</th>\n",
       "      <th>basefee</th>\n",
       "      <th>tx</th>\n",
       "      <th>start_block</th>\n",
       "      <th>sender</th>\n",
       "      <th>gas_used</th>\n",
       "      <th>tx_hash</th>\n",
       "      <th>gas_premium</th>\n",
       "      <th>max_fee</th>\n",
       "      <th>tip</th>\n",
       "    </tr>\n",
       "  </thead>\n",
       "  <tbody>\n",
       "    <tr>\n",
       "      <th>106875</th>\n",
       "      <td>199</td>\n",
       "      <td>461</td>\n",
       "      <td>16.907763</td>\n",
       "      <td>1559 Transaction e2d3eb744752d9ec: max_fee 185...</td>\n",
       "      <td>199</td>\n",
       "      <td>b'\\xf3U\\x02kFX\\xea\\x7f'</td>\n",
       "      <td>21000</td>\n",
       "      <td>e2d3eb744752d9ec</td>\n",
       "      <td>1.0</td>\n",
       "      <td>18.597005</td>\n",
       "      <td>1000000000</td>\n",
       "    </tr>\n",
       "    <tr>\n",
       "      <th>106876</th>\n",
       "      <td>199</td>\n",
       "      <td>462</td>\n",
       "      <td>16.907763</td>\n",
       "      <td>1559 Transaction ca5c7709de96ae39: max_fee 188...</td>\n",
       "      <td>199</td>\n",
       "      <td>b'Q\\xe8\\xb4\\x94\\x91\\xdc\\x7f~'</td>\n",
       "      <td>21000</td>\n",
       "      <td>ca5c7709de96ae39</td>\n",
       "      <td>1.0</td>\n",
       "      <td>18.846970</td>\n",
       "      <td>1000000000</td>\n",
       "    </tr>\n",
       "    <tr>\n",
       "      <th>106877</th>\n",
       "      <td>199</td>\n",
       "      <td>463</td>\n",
       "      <td>16.907763</td>\n",
       "      <td>1559 Transaction 4b44b126107fdb2d: max_fee 185...</td>\n",
       "      <td>199</td>\n",
       "      <td>b'\\xear\\x10l\\xab\\xb9H\\xea'</td>\n",
       "      <td>21000</td>\n",
       "      <td>4b44b126107fdb2d</td>\n",
       "      <td>1.0</td>\n",
       "      <td>18.576849</td>\n",
       "      <td>1000000000</td>\n",
       "    </tr>\n",
       "    <tr>\n",
       "      <th>106878</th>\n",
       "      <td>199</td>\n",
       "      <td>464</td>\n",
       "      <td>16.907763</td>\n",
       "      <td>1559 Transaction cdbabf057894c7a0: max_fee 184...</td>\n",
       "      <td>199</td>\n",
       "      <td>b'Q\\xbc\\r\\x17\\x02\\x97\\x8b\\xf3'</td>\n",
       "      <td>21000</td>\n",
       "      <td>cdbabf057894c7a0</td>\n",
       "      <td>1.0</td>\n",
       "      <td>18.460878</td>\n",
       "      <td>1000000000</td>\n",
       "    </tr>\n",
       "    <tr>\n",
       "      <th>106879</th>\n",
       "      <td>199</td>\n",
       "      <td>465</td>\n",
       "      <td>16.907763</td>\n",
       "      <td>1559 Transaction aec7416bdc469956: max_fee 188...</td>\n",
       "      <td>199</td>\n",
       "      <td>b'$\\xc1\\xb5I\\xbc\\xcc\\xb6\\xa6'</td>\n",
       "      <td>21000</td>\n",
       "      <td>aec7416bdc469956</td>\n",
       "      <td>1.0</td>\n",
       "      <td>18.898360</td>\n",
       "      <td>1000000000</td>\n",
       "    </tr>\n",
       "  </tbody>\n",
       "</table>\n",
       "</div>"
      ],
      "text/plain": [
       "        block_height  tx_index    basefee  \\\n",
       "106875           199       461  16.907763   \n",
       "106876           199       462  16.907763   \n",
       "106877           199       463  16.907763   \n",
       "106878           199       464  16.907763   \n",
       "106879           199       465  16.907763   \n",
       "\n",
       "                                                       tx  start_block  \\\n",
       "106875  1559 Transaction e2d3eb744752d9ec: max_fee 185...          199   \n",
       "106876  1559 Transaction ca5c7709de96ae39: max_fee 188...          199   \n",
       "106877  1559 Transaction 4b44b126107fdb2d: max_fee 185...          199   \n",
       "106878  1559 Transaction cdbabf057894c7a0: max_fee 184...          199   \n",
       "106879  1559 Transaction aec7416bdc469956: max_fee 188...          199   \n",
       "\n",
       "                                sender  gas_used           tx_hash  \\\n",
       "106875         b'\\xf3U\\x02kFX\\xea\\x7f'     21000  e2d3eb744752d9ec   \n",
       "106876   b'Q\\xe8\\xb4\\x94\\x91\\xdc\\x7f~'     21000  ca5c7709de96ae39   \n",
       "106877      b'\\xear\\x10l\\xab\\xb9H\\xea'     21000  4b44b126107fdb2d   \n",
       "106878  b'Q\\xbc\\r\\x17\\x02\\x97\\x8b\\xf3'     21000  cdbabf057894c7a0   \n",
       "106879   b'$\\xc1\\xb5I\\xbc\\xcc\\xb6\\xa6'     21000  aec7416bdc469956   \n",
       "\n",
       "        gas_premium    max_fee         tip  \n",
       "106875          1.0  18.597005  1000000000  \n",
       "106876          1.0  18.846970  1000000000  \n",
       "106877          1.0  18.576849  1000000000  \n",
       "106878          1.0  18.460878  1000000000  \n",
       "106879          1.0  18.898360  1000000000  "
      ]
     },
     "execution_count": 17,
     "metadata": {},
     "output_type": "execute_result"
    }
   ],
   "source": [
    "chain_opti_df.tail()"
   ]
  },
  {
   "cell_type": "markdown",
   "metadata": {},
   "source": [
    "With a simple join on the `sender` column we can associate each user with their included transaction. We look at the average value of included users after the second stationary point."
   ]
  },
  {
   "cell_type": "code",
   "execution_count": 18,
   "metadata": {},
   "outputs": [
    {
     "data": {
      "text/plain": [
       "value    19.174209\n",
       "dtype: float64"
      ]
     },
     "execution_count": 18,
     "metadata": {},
     "output_type": "execute_result"
    }
   ],
   "source": [
    "chain_opti_df[(chain_opti_df.block_height >= 150)].join(\n",
    "    user_pool_opti_df.set_index(\"sender\"), on=\"sender\"\n",
    ")[[\"value\"]].mean()"
   ]
  },
  {
   "cell_type": "markdown",
   "metadata": {},
   "source": [
    "When users expect to be included at least one block after they send their transaction, the average value of included users is around 19.2 Gwei."
   ]
  },
  {
   "cell_type": "code",
   "execution_count": 19,
   "metadata": {},
   "outputs": [
    {
     "data": {
      "text/plain": [
       "value    18.666432\n",
       "dtype: float64"
      ]
     },
     "execution_count": 19,
     "metadata": {},
     "output_type": "execute_result"
    }
   ],
   "source": [
    "user_pool_jump_df = user_pool_jump.export().rename(columns={ \"pub_key\": \"sender\" })\n",
    "chain_jump_df = chain_jump.export()\n",
    "chain_jump_df[(chain_jump_df.block_height >= 150)].join(\n",
    "    user_pool_jump_df.set_index(\"sender\"), on=\"sender\"\n",
    ")[[\"value\"]].mean()"
   ]
  },
  {
   "cell_type": "markdown",
   "metadata": {},
   "source": [
    "But when users expect to be included at least _five_ blocks after, the average value of included users is around 18.7 Gwei, confirming that when users expect next block inclusion, higher value users get in and raise the basefee in the process."
   ]
  },
  {
   "cell_type": "markdown",
   "metadata": {},
   "source": [
    "## Conclusion\n",
    "\n",
    "We've looked at 1559 when users with their own values and costs decide whether to join the pool or not based on the current basefee level. These users estimate their ultimate payoff by assuming _stationarity_: the demand between rounds follows the same arrival process and the same distribution of values and costs. In this stationary environment, basefee settles on some value and mostly stays there, allowing users to estimate their payoff should they wait for five or one blocks to be included.\n",
    "\n",
    "We've again left aside some important questions. Here all users simply leave a 1 Gwei premium in their transactions. In reality, we should expect users to attempt to \"game\" the system by leaving higher tips to get in first. We can suppose that in a stationary environment, \"gaming\" is only possible until basefee reaches its stationary point (during the transition period) and exhausts the feasible demand. We will leave this question for another notebook.\n",
    "\n",
    "(Temporary) non-stationarity is more interesting. The [5% meme](https://insights.deribit.com/market-research/analysis-of-eip-2593-escalator/) during which sudden demand shocks precipitate a large influx of new, high-valued transactions should also see users try to outcompete each other based on premiums alone, until basefee catches up. The question of whether 1559 offers anything in this case or whether the whole situation would look like a first price auction may be better settled empirically, but we can intuit that 1559 would smooth the process slightly by [offering a (laggy) price oracle](https://twitter.com/onurhsolmaz/status/1286068365812011009).\n",
    "\n",
    "And then we have the question of miner collusion, which rightfully agitates a lot of the ongoing conversation. In the simulations we do here, we instantiated one transaction pool only, which should tell you that we are looking at a \"centralised\", honest miner that includes transactions as much as possible, and not a collection or a cartel of miners cooperating. We can of course weaken this assumption and have several mining pools with their own behaviours and payoff evaluations, much like we modelled our users. We still would like to have a good theoretical understanding of the risks and applicability of miner collusion strategies. Onward!\n",
    "\n",
    "---"
   ]
  },
  {
   "cell_type": "markdown",
   "metadata": {},
   "source": [
    "#### (Bonus) Ex post individual rationality\n",
    "\n",
    "_Individual rationality_ is the idea that agents won't join a mechanism unless they hope to make some positive payoff out of it. I'd rather not transact if my value for transacting minus my costs is negative.\n",
    "\n",
    "In general, we like this property and we want to make the mechanism individually rational to as many agents as possible. Yet, some mechanisms fail to satisfy _ex post_ individual rationality: I might _expect_ to make a positive payoff from the mechanism, but some _realisation_ of the mechanism exists where my payoff is negative.\n",
    "\n",
    "Take an auction. As long as my bid is lower or equal to my value for the auctioned item, the mechanism is ex post individually rational for me: I can never \"overpay\". If I value the item for 10 ETH and decide to bid 11 ETH, in a first-price auction where I pay for my bid if I have the highest, there is a realisation of the mechanism where I am the winner and I am asked to pay 11 ETH. My payoff is -1 ETH then.\n",
    "\n",
    "In the transaction fee market, ex post individual rationality is not guaranteed unless I can cancel my transaction. In the simulations here, we do not offer this option to our agents. They expect to wait for inclusion for a certain amount of blocks, and evaluate whether their payoff after that wait is positive or not to decide whether to send their transaction or not. However, some agents might wait longer than their initial estimation, in particular before the mechanism reaches stationarity. Some realisations of the mechanism then yield a negative payoff for these agents, and the mechanism is not ex post individually rational.\n",
    "\n",
    "Let's look at the agents' payoff using the transcript of transactions included in the chain. For each transaction, we want to find out what was the ultimate payoff for the agent who sent it in. If the transaction was included much later than the agent's initial estimation, this payoff is negative, and the mechanism wasn't ex post individually rational to them."
   ]
  },
  {
   "cell_type": "code",
   "execution_count": 20,
   "metadata": {},
   "outputs": [],
   "source": [
    "user_pool_df = user_pool.export().rename(columns={ \"pub_key\": \"sender\" })\n",
    "chain_df = chain.export()\n",
    "user_txs_df = chain_df.join(user_pool_df.set_index(\"sender\"), on=\"sender\")"
   ]
  },
  {
   "cell_type": "markdown",
   "metadata": {},
   "source": [
    "In the next chunk we obtain the users' payoffs: their value minus the costs incurred from the transaction fee and the time they waited."
   ]
  },
  {
   "cell_type": "code",
   "execution_count": 21,
   "metadata": {},
   "outputs": [],
   "source": [
    "user_txs_df[\"payoff\"] = user_txs_df.apply(\n",
    "    lambda row: row.user.payoff({\n",
    "        \"current_block\": row.block_height,\n",
    "        \"gas_price\": row.tx.gas_price({\n",
    "            \"basefee\": row.basefee * (10 ** 9) # we need basefee in wei\n",
    "        })\n",
    "    }) / (10 ** 9), # put payoff is in Gwei\n",
    "    axis = 1\n",
    ")\n",
    "user_txs_df[\"epir\"] = user_txs_df.payoff.apply(\n",
    "    lambda payoff: payoff >= 0\n",
    ")"
   ]
  },
  {
   "cell_type": "markdown",
   "metadata": {},
   "source": [
    "Now we count the fraction of users in each block who received a positive payoff."
   ]
  },
  {
   "cell_type": "code",
   "execution_count": 22,
   "metadata": {},
   "outputs": [],
   "source": [
    "epir_df = pd.concat([\n",
    "    user_txs_df[[\"block_height\", \"tx_hash\"]].groupby([\"block_height\"]).agg([\"count\"]),\n",
    "    user_txs_df[[\"block_height\", \"epir\"]][user_txs_df.epir == True].groupby([\"block_height\"]).agg([\"count\"])\n",
    "], axis = 1)\n",
    "epir_df[\"percent_epir\"] = epir_df.apply(\n",
    "    lambda row: row.epir / row.tx_hash * 100,\n",
    "    axis = 1\n",
    ")"
   ]
  },
  {
   "cell_type": "markdown",
   "metadata": {},
   "source": [
    "Let's plot it!"
   ]
  },
  {
   "cell_type": "code",
   "execution_count": 23,
   "metadata": {},
   "outputs": [
    {
     "data": {
      "text/plain": [
       "<AxesSubplot:xlabel='block_height'>"
      ]
     },
     "execution_count": 23,
     "metadata": {},
     "output_type": "execute_result"
    },
    {
     "data": {
      "image/png": "[encoded data removed]",
      "text/plain": [
       "<Figure size 432x288 with 1 Axes>"
      ]
     },
     "metadata": {
      "needs_background": "light"
     },
     "output_type": "display_data"
    }
   ],
   "source": [
    "epir_df.reset_index().plot(\"block_height\", [\"percent_epir\"])"
   ]
  },
  {
   "cell_type": "markdown",
   "metadata": {},
   "source": [
    "At the very beginning, all users (100%) have positive payoff. They have only waited for 1 block to get included. This percentage steadily drops, as basefee increases: some high value users waiting in the pool get included much later than they expected, netting a negative payoff.\n",
    "\n",
    "Once we pass the initial instability (while basefee is looking for its stationary value), all users receive a positive payoff. This is somewhat expected: once basefee has increased enough to weed out excess demand, users are pretty much guaranteed to be included in the next block, and so the realised waiting time will always be less than their estimate."
   ]
  },
  {
   "cell_type": "markdown",
   "metadata": {},
   "source": [
    "---\n",
    "\n",
    "_Acknowledgements:_ [Sacha Saint-Leger](https://twitter.com/ssaintleger) for his comments, edits and corrections (all errors remain mine); [Dan Finlay](https://twitter.com/danfinlay) for prompting a live discussion of this notebook in a recent call (link TBD).\n",
    "\n",
    "_Check out also:_ A recent [ethresear.ch post](https://ethresear.ch/t/a-mechanism-for-daily-autonomous-gas-price-stabilization/7762) by [Onur Solmaz](https://twitter.com/onurhsolmaz), on a 1559-inspired mechanism for daily gas price stabilization, with simulations."
   ]
  }
 ],
 "metadata": {
  "kernelspec": {
   "display_name": "Python 3",
   "language": "python",
   "name": "python3"
  },
  "language_info": {
   "codemirror_mode": {
    "name": "ipython",
    "version": 3
   },
   "file_extension": ".py",
   "mimetype": "text/x-python",
   "name": "python",
   "nbconvert_exporter": "python",
   "pygments_lexer": "ipython3",
   "version": "3.8.2"
  }
 },
 "nbformat": 4,
 "nbformat_minor": 4
}
