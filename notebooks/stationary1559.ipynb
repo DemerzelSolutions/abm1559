{
 "cells": [
  {
   "cell_type": "markdown",
   "metadata": {},
   "source": [
    "# Stationary behaviour of EIP 1559 agent-based model\n",
    "\n",
    "###### July 2020, [@barnabemonnot](https://twitter.com/barnabemonnot)\n",
    "###### [Robust Incentives Group](https://github.com/ethereum/rig), Ethereum Foundation\n",
    "\n",
    "---\n",
    "\n",
    "We introduce here the building blocks of agent-based simulations of EIP1559. This follows an [earlier notebook](https://nbviewer.jupyter.org/github/ethereum/rig/blob/master/eip1559/eip1559.ipynb) that merely looked at the dynamics of the EIP 1559 mechanism. In the present notebook, agents decide on transactions based on the current basefee and form their transactions based on internal evaluations of their values and costs.\n",
    "\n",
    "All the code is available in [this repo](https://github.com/barnabemonnot/abm1559), with some preliminary documentation [here](https://barnabemonnot.com/abm1559/build/html/). You can also download the [`abm1559` package from PyPi](https://pypi.org/project/abm1559/) and reproduce all the analysis here yourself!\n",
    "\n",
    "## The broad lines\n",
    "\n",
    "We have several entities. _Users_ come in randomly (following a Poisson process) and create and send transactions. The transactions are received by a _transaction pool_, from which the $x$ best _valid_ transactions are included in a _block_ created at fixed intervals. $x$ depends on how many valid transactions exist in the pool (e.g., how many post a gasprice exceeding the prevailing basefee in 1559 paradigm) and the block gas limit. Once transactions are included in the block, and the block is included in the _chain_, transactions are removed from the transaction pool.\n",
    "\n",
    "How do users set their parameters? Users have their own internal ways of evaluating their _costs_. Users obtain a certain _value_ from having their transaction included, which we call $v$. $v$ is different for every user. This value is fixed but their overall _payoff_ decreases the longer they wait to be included. Some users have higher time preferences than others, and their payoff decreases faster than others the longer they wait. Put together, we have the following:\n",
    "\n",
    "$$ \\texttt{payoff} = \\texttt{value} - \\texttt{cost from waiting} - \\texttt{transaction fee} $$\n",
    "\n",
    "Users expect to wait for a certain amount of time. In this essay, we set this to a fixed value -- somewhat arbitrarily we chose 5. This can be readily understood in the following way. Users estimate what their payoff will be from getting included 5 blocks from now, assuming basefee remains constant. If this payoff is negative, they decide not to send the transaction to the pool (in queuing terminology, they _balk_). We'll play with this assumption later down in the text.\n",
    "\n",
    "The scenario is set up this way to study _stationarity_: assuming some demand comes in from a fixed distribution at regular intervals, we must expect basefee to reach some stationary value and stay there. It is then reasonable for users, at this stationary point, to consider that 5 blocks from now basefee will still be at the same level. In the nonstationary case, when for instance a systemic change in the demand happens (e.g., the rate of Poisson arrivals increases, which we'll also simulate), a user may want to hedge their bets by estimating their future payoffs in a different way, taking into account that basefee might increase instead. This strategy would probably be a good idea during the _transition_ phase, when basefee shifts from one stationary point to a new one.\n",
    "\n",
    "We make the assumption here that users choose their 1559 parameters based on their value alone. We set the transaction `max_fee` parameter to the value of the user and the `gas_premium` parameter is set to a residual value, here 1 Gwei per unit of gas. There is no loss of generality in assuming all users send the same transaction in (e.g., a simple transfer) and so all transactions have the same `gas_used` value (21,000). In 1559 paradigm, with a 20M gas limit per block, this allows at most 952 transactions to be included, although of course the mechanism will target half of that, around 475 here.\n",
    "\n",
    "## Simulation\n",
    "\n",
    "We import a few classes from our `abm1559` package."
   ]
  },
  {
   "cell_type": "code",
   "execution_count": 1,
   "metadata": {},
   "outputs": [],
   "source": [
    "import os, sys\n",
    "sys.path.insert(1, os.path.realpath(os.path.pardir))\n",
    "# You may remove the two lines above if you have installed abm1559 from pypi\n",
    "\n",
    "from abm1559.utils import constants\n",
    "\n",
    "from abm1559.txpool import TxPool\n",
    "\n",
    "from abm1559.users import User1559, UserPool\n",
    "\n",
    "from abm1559.chain import (\n",
    "    Chain,\n",
    "    Block1559,\n",
    ")\n",
    "\n",
    "from abm1559.simulator import (\n",
    "    spawn_poisson_demand,\n",
    "    decide_transactions,\n",
    "    update_basefee,\n",
    ")\n",
    "\n",
    "import pandas as pd"
   ]
  },
  {
   "cell_type": "markdown",
   "metadata": {},
   "source": [
    "Below is the main function used to simulate the fee market. It takes in a `demand_scenario` array. We've seen that each round, we draw the number of users wishing to send transactions from a Poisson distribution. [This distribution is parameterised by the expected number of arrivals, called _lambda_ $\\lambda$](https://en.wikipedia.org/wiki/Poisson_distribution). The `demand_scenario` array contains a sequence of such lambda's. We also provide in `UserClass` the type of user we would like to model (see the [docs](http://barnabemonnot.com/abm1559/build/html/#users) for more details).\n",
    "\n",
    "In the remainder, our users will draw their value for the transaction (per Gwei) from a uniform distribution, picking a random number between 0 and 20 (Gwei). Their cost for waiting one extra unit of time is drawn from a uniform distribution too, this time between 0 and 1 (Gwei). The closer their cost is to 1, the more impatient users are.\n",
    "\n",
    "The numbers above sound arbitrary, and in a sense they are! They were chosen to respect the scales we are used to (although gas prices are closer to 100 Gweis these days...), but any distribution (uniform, Pareto, whatever floats your boat) would lead to stationarity. The important part is that _some_ users have positive value for transacting in the first place, enough to fill a block to its target size at least. The choice of uniform distribution, as opposed to having all users experience the same cost per round, allows for simulating a scenario where some users are more in a hurry than others."
   ]
  },
  {
   "cell_type": "code",
   "execution_count": 2,
   "metadata": {},
   "outputs": [],
   "source": [
    "def simulate(demand_scenario, UserClass):\n",
    "    # Instantiate a couple of things\n",
    "    txpool = TxPool()\n",
    "    basefee = constants[\"INITIAL_BASEFEE\"]\n",
    "    chain = Chain()\n",
    "    metrics = []\n",
    "    user_pool = UserPool()\n",
    "\n",
    "    for t in range(len(demand_scenario)):\n",
    "        if t % 100 == 0: print(t)\n",
    "\n",
    "        # `params` are the \"environment\" of the simulation\n",
    "        params = {\n",
    "            \"basefee\": basefee,\n",
    "            \"current_block\": t,\n",
    "        }\n",
    "\n",
    "        # We return some demand which on expectation yields 2000 new users per round\n",
    "        users = spawn_poisson_demand(t, demand_scenario[t], UserClass)\n",
    "        \n",
    "        # Add users to the pool\n",
    "        user_pool.add_users(users)\n",
    "\n",
    "        # We query each new user with the current basefee value\n",
    "        # Users either return a transaction or None if they prefer to balk\n",
    "        decided_txs = decide_transactions(users, params)\n",
    "\n",
    "        # New transactions are added to the transaction pool\n",
    "        txpool.add_txs(decided_txs)\n",
    "\n",
    "        # The best valid transactions are taken out of the pool for inclusion\n",
    "        selected_txs = txpool.select_transactions(params)\n",
    "        txpool.remove_txs([tx.tx_hash for tx in selected_txs])\n",
    "\n",
    "        # We create a block with these transactions\n",
    "        block = Block1559(txs = selected_txs, parent_hash = chain.current_head, height = t, basefee = basefee)\n",
    "\n",
    "        # The block is added to the chain\n",
    "        chain.add_block(block)\n",
    "\n",
    "        # A couple of metrics we will use to monitor the simulation\n",
    "        row_metrics = {\n",
    "            \"timestep\": t,\n",
    "            \"basefee\": basefee / (10 ** 9),\n",
    "            \"users\": len(users),\n",
    "            \"decided_txs\": len(decided_txs),\n",
    "            \"included_txs\": len(selected_txs),\n",
    "            \"blk_avg_gas_price\": block.average_gas_price(),\n",
    "            \"blk_avg_tip\": block.average_tip(),\n",
    "            \"blk_avg_waiting_time\": block.average_waiting_time(),\n",
    "            \"pool_length\": txpool.pool_length,\n",
    "            \"pool_avg_gas_price\": txpool.average_gas_price(params),\n",
    "            \"pool_avg_tip\": txpool.average_tip(params),\n",
    "            \"pool_avg_waiting_time\": txpool.average_waiting_time(t),\n",
    "        }\n",
    "        metrics.append(row_metrics)\n",
    "\n",
    "        # Finally, basefee is updated and a new round starts\n",
    "        basefee = update_basefee(block, basefee)\n",
    "\n",
    "    return (pd.DataFrame(metrics), user_pool, chain)"
   ]
  },
  {
   "cell_type": "markdown",
   "metadata": {},
   "source": [
    "To study the stationary case, we start with an array containing the same value for as many time steps as we wish to simulate the market for. We'll set that value to expecting 2000 users spawning between two blocks, for 200 timesteps."
   ]
  },
  {
   "cell_type": "code",
   "execution_count": 3,
   "metadata": {},
   "outputs": [
    {
     "name": "stdout",
     "output_type": "stream",
     "text": [
      "0\n",
      "100\n"
     ]
    }
   ],
   "source": [
    "demand_scenario = [2000 for i in range(200)]\n",
    "(df, user_pool, chain) = simulate(demand_scenario, User1559)"
   ]
  },
  {
   "cell_type": "markdown",
   "metadata": {},
   "source": [
    "## Results\n",
    "\n",
    "Let's print the head and tail of the data frame holding our metrics. Each row corresponds to one round of our simulation, so one block."
   ]
  },
  {
   "cell_type": "code",
   "execution_count": 4,
   "metadata": {},
   "outputs": [
    {
     "data": {
      "text/html": [
       "<div>\n",
       "<style scoped>\n",
       "    .dataframe tbody tr th:only-of-type {\n",
       "        vertical-align: middle;\n",
       "    }\n",
       "\n",
       "    .dataframe tbody tr th {\n",
       "        vertical-align: top;\n",
       "    }\n",
       "\n",
       "    .dataframe thead th {\n",
       "        text-align: right;\n",
       "    }\n",
       "</style>\n",
       "<table border=\"1\" class=\"dataframe\">\n",
       "  <thead>\n",
       "    <tr style=\"text-align: right;\">\n",
       "      <th></th>\n",
       "      <th>timestep</th>\n",
       "      <th>basefee</th>\n",
       "      <th>users</th>\n",
       "      <th>decided_txs</th>\n",
       "      <th>included_txs</th>\n",
       "      <th>blk_avg_gas_price</th>\n",
       "      <th>blk_avg_tip</th>\n",
       "      <th>blk_avg_waiting_time</th>\n",
       "      <th>pool_length</th>\n",
       "      <th>pool_avg_gas_price</th>\n",
       "      <th>pool_avg_tip</th>\n",
       "      <th>pool_avg_waiting_time</th>\n",
       "    </tr>\n",
       "  </thead>\n",
       "  <tbody>\n",
       "    <tr>\n",
       "      <th>0</th>\n",
       "      <td>0</td>\n",
       "      <td>1.000000</td>\n",
       "      <td>2058</td>\n",
       "      <td>1561</td>\n",
       "      <td>952</td>\n",
       "      <td>2.000000</td>\n",
       "      <td>1.0</td>\n",
       "      <td>0.000000</td>\n",
       "      <td>609</td>\n",
       "      <td>2.000000</td>\n",
       "      <td>1.000000</td>\n",
       "      <td>0.000000</td>\n",
       "    </tr>\n",
       "    <tr>\n",
       "      <th>1</th>\n",
       "      <td>1</td>\n",
       "      <td>1.124900</td>\n",
       "      <td>1986</td>\n",
       "      <td>1532</td>\n",
       "      <td>952</td>\n",
       "      <td>2.124900</td>\n",
       "      <td>1.0</td>\n",
       "      <td>0.639706</td>\n",
       "      <td>1189</td>\n",
       "      <td>2.124900</td>\n",
       "      <td>1.000000</td>\n",
       "      <td>0.000000</td>\n",
       "    </tr>\n",
       "    <tr>\n",
       "      <th>2</th>\n",
       "      <td>2</td>\n",
       "      <td>1.265400</td>\n",
       "      <td>1985</td>\n",
       "      <td>1511</td>\n",
       "      <td>952</td>\n",
       "      <td>2.265400</td>\n",
       "      <td>1.0</td>\n",
       "      <td>1.000000</td>\n",
       "      <td>1748</td>\n",
       "      <td>2.265400</td>\n",
       "      <td>1.000000</td>\n",
       "      <td>0.135584</td>\n",
       "    </tr>\n",
       "    <tr>\n",
       "      <th>3</th>\n",
       "      <td>3</td>\n",
       "      <td>1.423448</td>\n",
       "      <td>2010</td>\n",
       "      <td>1538</td>\n",
       "      <td>952</td>\n",
       "      <td>2.423448</td>\n",
       "      <td>1.0</td>\n",
       "      <td>1.248950</td>\n",
       "      <td>2334</td>\n",
       "      <td>2.423437</td>\n",
       "      <td>0.999988</td>\n",
       "      <td>0.341045</td>\n",
       "    </tr>\n",
       "    <tr>\n",
       "      <th>4</th>\n",
       "      <td>4</td>\n",
       "      <td>1.601237</td>\n",
       "      <td>1974</td>\n",
       "      <td>1442</td>\n",
       "      <td>952</td>\n",
       "      <td>2.601237</td>\n",
       "      <td>1.0</td>\n",
       "      <td>1.835084</td>\n",
       "      <td>2824</td>\n",
       "      <td>2.601165</td>\n",
       "      <td>0.999927</td>\n",
       "      <td>0.489731</td>\n",
       "    </tr>\n",
       "    <tr>\n",
       "      <th>...</th>\n",
       "      <td>...</td>\n",
       "      <td>...</td>\n",
       "      <td>...</td>\n",
       "      <td>...</td>\n",
       "      <td>...</td>\n",
       "      <td>...</td>\n",
       "      <td>...</td>\n",
       "      <td>...</td>\n",
       "      <td>...</td>\n",
       "      <td>...</td>\n",
       "      <td>...</td>\n",
       "      <td>...</td>\n",
       "    </tr>\n",
       "    <tr>\n",
       "      <th>195</th>\n",
       "      <td>195</td>\n",
       "      <td>11.754826</td>\n",
       "      <td>2062</td>\n",
       "      <td>496</td>\n",
       "      <td>496</td>\n",
       "      <td>12.754826</td>\n",
       "      <td>1.0</td>\n",
       "      <td>0.000000</td>\n",
       "      <td>1580</td>\n",
       "      <td>8.674077</td>\n",
       "      <td>-3.080749</td>\n",
       "      <td>181.736076</td>\n",
       "    </tr>\n",
       "    <tr>\n",
       "      <th>196</th>\n",
       "      <td>196</td>\n",
       "      <td>11.815951</td>\n",
       "      <td>1936</td>\n",
       "      <td>451</td>\n",
       "      <td>451</td>\n",
       "      <td>12.815951</td>\n",
       "      <td>1.0</td>\n",
       "      <td>0.000000</td>\n",
       "      <td>1580</td>\n",
       "      <td>8.674077</td>\n",
       "      <td>-3.141874</td>\n",
       "      <td>182.736076</td>\n",
       "    </tr>\n",
       "    <tr>\n",
       "      <th>197</th>\n",
       "      <td>197</td>\n",
       "      <td>11.737818</td>\n",
       "      <td>1977</td>\n",
       "      <td>447</td>\n",
       "      <td>447</td>\n",
       "      <td>12.737818</td>\n",
       "      <td>1.0</td>\n",
       "      <td>0.000000</td>\n",
       "      <td>1580</td>\n",
       "      <td>8.674077</td>\n",
       "      <td>-3.063741</td>\n",
       "      <td>183.736076</td>\n",
       "    </tr>\n",
       "    <tr>\n",
       "      <th>198</th>\n",
       "      <td>198</td>\n",
       "      <td>11.647877</td>\n",
       "      <td>2015</td>\n",
       "      <td>462</td>\n",
       "      <td>462</td>\n",
       "      <td>12.647877</td>\n",
       "      <td>1.0</td>\n",
       "      <td>0.000000</td>\n",
       "      <td>1580</td>\n",
       "      <td>8.674077</td>\n",
       "      <td>-2.973800</td>\n",
       "      <td>184.736076</td>\n",
       "    </tr>\n",
       "    <tr>\n",
       "      <th>199</th>\n",
       "      <td>199</td>\n",
       "      <td>11.604489</td>\n",
       "      <td>1886</td>\n",
       "      <td>484</td>\n",
       "      <td>484</td>\n",
       "      <td>12.604489</td>\n",
       "      <td>1.0</td>\n",
       "      <td>0.000000</td>\n",
       "      <td>1580</td>\n",
       "      <td>8.674077</td>\n",
       "      <td>-2.930412</td>\n",
       "      <td>185.736076</td>\n",
       "    </tr>\n",
       "  </tbody>\n",
       "</table>\n",
       "<p>200 rows × 12 columns</p>\n",
       "</div>"
      ],
      "text/plain": [
       "     timestep    basefee  users  decided_txs  included_txs  blk_avg_gas_price  \\\n",
       "0           0   1.000000   2058         1561           952           2.000000   \n",
       "1           1   1.124900   1986         1532           952           2.124900   \n",
       "2           2   1.265400   1985         1511           952           2.265400   \n",
       "3           3   1.423448   2010         1538           952           2.423448   \n",
       "4           4   1.601237   1974         1442           952           2.601237   \n",
       "..        ...        ...    ...          ...           ...                ...   \n",
       "195       195  11.754826   2062          496           496          12.754826   \n",
       "196       196  11.815951   1936          451           451          12.815951   \n",
       "197       197  11.737818   1977          447           447          12.737818   \n",
       "198       198  11.647877   2015          462           462          12.647877   \n",
       "199       199  11.604489   1886          484           484          12.604489   \n",
       "\n",
       "     blk_avg_tip  blk_avg_waiting_time  pool_length  pool_avg_gas_price  \\\n",
       "0            1.0              0.000000          609            2.000000   \n",
       "1            1.0              0.639706         1189            2.124900   \n",
       "2            1.0              1.000000         1748            2.265400   \n",
       "3            1.0              1.248950         2334            2.423437   \n",
       "4            1.0              1.835084         2824            2.601165   \n",
       "..           ...                   ...          ...                 ...   \n",
       "195          1.0              0.000000         1580            8.674077   \n",
       "196          1.0              0.000000         1580            8.674077   \n",
       "197          1.0              0.000000         1580            8.674077   \n",
       "198          1.0              0.000000         1580            8.674077   \n",
       "199          1.0              0.000000         1580            8.674077   \n",
       "\n",
       "     pool_avg_tip  pool_avg_waiting_time  \n",
       "0        1.000000               0.000000  \n",
       "1        1.000000               0.000000  \n",
       "2        1.000000               0.135584  \n",
       "3        0.999988               0.341045  \n",
       "4        0.999927               0.489731  \n",
       "..            ...                    ...  \n",
       "195     -3.080749             181.736076  \n",
       "196     -3.141874             182.736076  \n",
       "197     -3.063741             183.736076  \n",
       "198     -2.973800             184.736076  \n",
       "199     -2.930412             185.736076  \n",
       "\n",
       "[200 rows x 12 columns]"
      ]
     },
     "execution_count": 4,
     "metadata": {},
     "output_type": "execute_result"
    }
   ],
   "source": [
    "df"
   ]
  },
  {
   "cell_type": "markdown",
   "metadata": {},
   "source": [
    "At the start of the simulation we clearly see in column `users` a demand close to 2000 users per round. Among these 2000 or so, around 1500 decide to send their transaction in (`decided_txs`). The 500 who don't might have a low value or high per-round. costs, deciding that it is unprofitable for them to even send their transaction in. Eventually 952 of them are included (`included_txs`), maxing out the block gas limit. The basefee starts at 1 Gwei but steadily increases from there, reaching around 11.5 Gwei by the end.\n",
    "\n",
    "By the end of the simulation, we note that `decided_txs` is always equal to `included_txs`. By this point, the basefee has risen enough to make most users find sending their transaction is unprofitable. This is exactly what we want! Users balk at the current prices.\n",
    "\n",
    "In the next chart we show the evolution of basefee and gas price. We define _tip_ as the gas price minus the basefee. Note that [it is in general **not** equal to the gas premium](https://twitter.com/barnabemonnot/status/1284271520311848960) that users set, in particular when basefee plus gas premium exceeds the max fee of the user. In the graph below, the tip hovers around 1 Gwei (the premium), but is sometimes less than 1 too, especially when users see their posted max fees approached by the prevailing basefee."
   ]
  },
  {
   "cell_type": "code",
   "execution_count": 5,
   "metadata": {},
   "outputs": [
    {
     "data": {
      "text/plain": [
       "<AxesSubplot:xlabel='timestep'>"
      ]
     },
     "execution_count": 5,
     "metadata": {},
     "output_type": "execute_result"
    },
    {
     "data": {
      "image/png": "[encoded data removed]",
      "text/plain": [
       "<Figure size 432x288 with 1 Axes>"
      ]
     },
     "metadata": {
      "needs_background": "light"
     },
     "output_type": "display_data"
    }
   ],
   "source": [
    "df.plot(\"timestep\", [\"basefee\", \"blk_avg_tip\", \"pool_avg_gas_price\"])"
   ]
  },
  {
   "cell_type": "markdown",
   "metadata": {},
   "source": [
    "Notice the increase at the beginning followed by a short drop? At the very beginning, the pool fills up quickly with many users hopeful to get their transactions in with a positive resulting payoff. The basefee increases until users start balking **and** the pool is exhausted. Once exhausted, basefee starts decreasing again to settle at the stationary point where the pool only includes transactions that are invalid given the stationary basefee (see also the average gas price of transaction in the pool, with the red line well below the basefee even).\n",
    "\n",
    "We can see the pool length becoming stationary in the next plot, showing the length of the pool over time."
   ]
  },
  {
   "cell_type": "code",
   "execution_count": 6,
   "metadata": {},
   "outputs": [
    {
     "data": {
      "text/plain": [
       "<AxesSubplot:xlabel='timestep'>"
      ]
     },
     "execution_count": 6,
     "metadata": {},
     "output_type": "execute_result"
    },
    {
     "data": {
      "image/png": "[encoded data removed]",
      "text/plain": [
       "<Figure size 432x288 with 1 Axes>"
      ]
     },
     "metadata": {
      "needs_background": "light"
     },
     "output_type": "display_data"
    }
   ],
   "source": [
    "df.plot(\"timestep\", \"pool_length\")"
   ]
  },
  {
   "cell_type": "markdown",
   "metadata": {},
   "source": [
    "Remaining transactions are likely from early users who did not balk even though basefee was increasing, and who were quickly outbid by others."
   ]
  },
  {
   "cell_type": "markdown",
   "metadata": {},
   "source": [
    "## Demand shock\n",
    "\n",
    "We look at a stationary setting, where the new demand coming in each new round follows a fixed expected rate of arrival. Demand shocks may be of two kinds:\n",
    "\n",
    "- Same number of users, different values for transactions and costs for waiting.\n",
    "- Increased number of users, same values and costs.\n",
    "\n",
    "We'll consider the second scenario here, simply running the simulation again and increasing the parameter of our Poisson arrival process suddenly, from expecting 2000 users per round to 6000."
   ]
  },
  {
   "cell_type": "code",
   "execution_count": 7,
   "metadata": {},
   "outputs": [
    {
     "name": "stdout",
     "output_type": "stream",
     "text": [
      "0\n",
      "100\n"
     ]
    }
   ],
   "source": [
    "demand_scenario = [2000 for i in range(100)] + [6000 for i in range(100)]\n",
    "(df_jump, user_pool_jump, chain_jump) = simulate(demand_scenario, User1559)"
   ]
  },
  {
   "cell_type": "code",
   "execution_count": 8,
   "metadata": {},
   "outputs": [
    {
     "data": {
      "text/plain": [
       "<AxesSubplot:xlabel='timestep'>"
      ]
     },
     "execution_count": 8,
     "metadata": {},
     "output_type": "execute_result"
    },
    {
     "data": {
      "image/png": "[encoded data removed]",
      "text/plain": [
       "<Figure size 432x288 with 1 Axes>"
      ]
     },
     "metadata": {
      "needs_background": "light"
     },
     "output_type": "display_data"
    }
   ],
   "source": [
    "df_jump.plot(\"timestep\", \"users\")"
   ]
  },
  {
   "cell_type": "code",
   "execution_count": 9,
   "metadata": {},
   "outputs": [
    {
     "data": {
      "text/plain": [
       "<AxesSubplot:xlabel='timestep'>"
      ]
     },
     "execution_count": 9,
     "metadata": {},
     "output_type": "execute_result"
    },
    {
     "data": {
      "image/png": "[encoded data removed]",
      "text/plain": [
       "<Figure size 432x288 with 1 Axes>"
      ]
     },
     "metadata": {
      "needs_background": "light"
     },
     "output_type": "display_data"
    }
   ],
   "source": [
    "df_jump.plot(\"timestep\", [\"basefee\", \"blk_avg_tip\", \"pool_avg_gas_price\"])"
   ]
  },
  {
   "cell_type": "markdown",
   "metadata": {},
   "source": [
    "We see a jump around timestep 200, when the arrival rate of users switches from 2000 to 6000. Basefee increases in response. With a block limit of 20M gas, about 950 transactions fit in each block. Targetting half of this value, basefee increases until more or less 475 transactions are included in each block.\n",
    "\n",
    "Since our users' values and costs are always drawn from the same distribution, we expect when 2000 users show up to let in about 25% of them (~ 475 / 2000), the 25% with greatest expected payoff should they wait 5 blocks to get in. When 6000 users come in, we now expect the 8% (~ 475 / 6000) \"richest\" to get in only, so we obviously \"raise the bar\" for the basefee, since we need to discriminate more."
   ]
  },
  {
   "cell_type": "code",
   "execution_count": 10,
   "metadata": {},
   "outputs": [
    {
     "data": {
      "text/plain": [
       "<AxesSubplot:xlabel='timestep'>"
      ]
     },
     "execution_count": 10,
     "metadata": {},
     "output_type": "execute_result"
    },
    {
     "data": {
      "image/png": "[encoded data removed]",
      "text/plain": [
       "<Figure size 432x288 with 1 Axes>"
      ]
     },
     "metadata": {
      "needs_background": "light"
     },
     "output_type": "display_data"
    }
   ],
   "source": [
    "df_jump.plot(\"timestep\", [\"pool_length\", \"users\", \"decided_txs\", \"included_txs\"])"
   ]
  },
  {
   "cell_type": "markdown",
   "metadata": {},
   "source": [
    "As we see with the graph above, for a short while blocks include more than the usual ~475 transactions: since we have a whole bunch of new users, more of them are willing and able to pay for their transactions above the basefee, and thus get included."
   ]
  },
  {
   "cell_type": "code",
   "execution_count": 11,
   "metadata": {},
   "outputs": [
    {
     "data": {
      "text/html": [
       "<div>\n",
       "<style scoped>\n",
       "    .dataframe tbody tr th:only-of-type {\n",
       "        vertical-align: middle;\n",
       "    }\n",
       "\n",
       "    .dataframe tbody tr th {\n",
       "        vertical-align: top;\n",
       "    }\n",
       "\n",
       "    .dataframe thead th {\n",
       "        text-align: right;\n",
       "    }\n",
       "</style>\n",
       "<table border=\"1\" class=\"dataframe\">\n",
       "  <thead>\n",
       "    <tr style=\"text-align: right;\">\n",
       "      <th></th>\n",
       "      <th>timestep</th>\n",
       "      <th>basefee</th>\n",
       "      <th>users</th>\n",
       "      <th>decided_txs</th>\n",
       "      <th>included_txs</th>\n",
       "      <th>blk_avg_gas_price</th>\n",
       "      <th>blk_avg_tip</th>\n",
       "      <th>blk_avg_waiting_time</th>\n",
       "      <th>pool_length</th>\n",
       "      <th>pool_avg_gas_price</th>\n",
       "      <th>pool_avg_tip</th>\n",
       "      <th>pool_avg_waiting_time</th>\n",
       "    </tr>\n",
       "  </thead>\n",
       "  <tbody>\n",
       "    <tr>\n",
       "      <th>195</th>\n",
       "      <td>195</td>\n",
       "      <td>15.029028</td>\n",
       "      <td>5958</td>\n",
       "      <td>487</td>\n",
       "      <td>487</td>\n",
       "      <td>16.029028</td>\n",
       "      <td>1.0</td>\n",
       "      <td>0.0</td>\n",
       "      <td>1566</td>\n",
       "      <td>8.873133</td>\n",
       "      <td>-6.155895</td>\n",
       "      <td>179.522989</td>\n",
       "    </tr>\n",
       "    <tr>\n",
       "      <th>196</th>\n",
       "      <td>196</td>\n",
       "      <td>15.071673</td>\n",
       "      <td>6062</td>\n",
       "      <td>482</td>\n",
       "      <td>482</td>\n",
       "      <td>16.071673</td>\n",
       "      <td>1.0</td>\n",
       "      <td>0.0</td>\n",
       "      <td>1566</td>\n",
       "      <td>8.873133</td>\n",
       "      <td>-6.198540</td>\n",
       "      <td>180.522989</td>\n",
       "    </tr>\n",
       "    <tr>\n",
       "      <th>197</th>\n",
       "      <td>197</td>\n",
       "      <td>15.094657</td>\n",
       "      <td>5976</td>\n",
       "      <td>434</td>\n",
       "      <td>434</td>\n",
       "      <td>16.094657</td>\n",
       "      <td>1.0</td>\n",
       "      <td>0.0</td>\n",
       "      <td>1566</td>\n",
       "      <td>8.873133</td>\n",
       "      <td>-6.221524</td>\n",
       "      <td>181.522989</td>\n",
       "    </tr>\n",
       "    <tr>\n",
       "      <th>198</th>\n",
       "      <td>198</td>\n",
       "      <td>14.927484</td>\n",
       "      <td>5932</td>\n",
       "      <td>476</td>\n",
       "      <td>476</td>\n",
       "      <td>15.927484</td>\n",
       "      <td>1.0</td>\n",
       "      <td>0.0</td>\n",
       "      <td>1566</td>\n",
       "      <td>8.873133</td>\n",
       "      <td>-6.054351</td>\n",
       "      <td>182.522989</td>\n",
       "    </tr>\n",
       "    <tr>\n",
       "      <th>199</th>\n",
       "      <td>199</td>\n",
       "      <td>14.926737</td>\n",
       "      <td>5926</td>\n",
       "      <td>465</td>\n",
       "      <td>465</td>\n",
       "      <td>15.926737</td>\n",
       "      <td>1.0</td>\n",
       "      <td>0.0</td>\n",
       "      <td>1566</td>\n",
       "      <td>8.873133</td>\n",
       "      <td>-6.053604</td>\n",
       "      <td>183.522989</td>\n",
       "    </tr>\n",
       "  </tbody>\n",
       "</table>\n",
       "</div>"
      ],
      "text/plain": [
       "     timestep    basefee  users  decided_txs  included_txs  blk_avg_gas_price  \\\n",
       "195       195  15.029028   5958          487           487          16.029028   \n",
       "196       196  15.071673   6062          482           482          16.071673   \n",
       "197       197  15.094657   5976          434           434          16.094657   \n",
       "198       198  14.927484   5932          476           476          15.927484   \n",
       "199       199  14.926737   5926          465           465          15.926737   \n",
       "\n",
       "     blk_avg_tip  blk_avg_waiting_time  pool_length  pool_avg_gas_price  \\\n",
       "195          1.0                   0.0         1566            8.873133   \n",
       "196          1.0                   0.0         1566            8.873133   \n",
       "197          1.0                   0.0         1566            8.873133   \n",
       "198          1.0                   0.0         1566            8.873133   \n",
       "199          1.0                   0.0         1566            8.873133   \n",
       "\n",
       "     pool_avg_tip  pool_avg_waiting_time  \n",
       "195     -6.155895             179.522989  \n",
       "196     -6.198540             180.522989  \n",
       "197     -6.221524             181.522989  \n",
       "198     -6.054351             182.522989  \n",
       "199     -6.053604             183.522989  "
      ]
     },
     "execution_count": 11,
     "metadata": {},
     "output_type": "execute_result"
    }
   ],
   "source": [
    "df_jump.tail()"
   ]
  },
  {
   "cell_type": "markdown",
   "metadata": {},
   "source": [
    "## Changing expected time\n",
    "\n",
    "Up until now, users would decide whether to join the transaction pool or not based on the expectation that they will be included at least 5 blocks after they join. They evaluate their payoff assuming that basefee does not change (stationarity) for these 5 blocks. If their value for transacting minus the cost of waiting for 5 blocks minus the cost of transacting is positive, they send their transactions in!\n",
    "\n",
    "Under a stationary demand however, we should expect that users can get included in the next block. So let's decrease the time users expect to wait to 1 block only and see what happens. We do this by subclassing our `User1559` agent and overriding its `expected_time` method."
   ]
  },
  {
   "cell_type": "code",
   "execution_count": 12,
   "metadata": {},
   "outputs": [
    {
     "name": "stdout",
     "output_type": "stream",
     "text": [
      "0\n",
      "100\n"
     ]
    }
   ],
   "source": [
    "class OptiUser(User1559):\n",
    "    def expected_time(self, params):\n",
    "        return 1\n",
    "    \n",
    "(df_opti, user_pool_opti, chain_opti) = simulate(demand_scenario, OptiUser)"
   ]
  },
  {
   "cell_type": "code",
   "execution_count": 13,
   "metadata": {},
   "outputs": [
    {
     "data": {
      "text/plain": [
       "<AxesSubplot:xlabel='timestep'>"
      ]
     },
     "execution_count": 13,
     "metadata": {},
     "output_type": "execute_result"
    },
    {
     "data": {
      "image/png": "[encoded data removed]",
      "text/plain": [
       "<Figure size 432x288 with 1 Axes>"
      ]
     },
     "metadata": {
      "needs_background": "light"
     },
     "output_type": "display_data"
    }
   ],
   "source": [
    "df_opti.plot(\"timestep\", [\"basefee\", \"blk_avg_tip\", \"pool_avg_gas_price\"])"
   ]
  },
  {
   "cell_type": "markdown",
   "metadata": {},
   "source": [
    "The plot looks the same. But let's look at the average basefee for the last 50 blocks in this scenario and the last."
   ]
  },
  {
   "cell_type": "code",
   "execution_count": 14,
   "metadata": {},
   "outputs": [
    {
     "data": {
      "text/plain": [
       "basefee    16.906006\n",
       "dtype: float64"
      ]
     },
     "execution_count": 14,
     "metadata": {},
     "output_type": "execute_result"
    }
   ],
   "source": [
    "df_opti[(df.timestep > 150)][[\"basefee\"]].mean()"
   ]
  },
  {
   "cell_type": "code",
   "execution_count": 15,
   "metadata": {},
   "outputs": [
    {
     "data": {
      "text/plain": [
       "basefee    15.026639\n",
       "dtype: float64"
      ]
     },
     "execution_count": 15,
     "metadata": {},
     "output_type": "execute_result"
    }
   ],
   "source": [
    "df_jump[(df.timestep > 150)][[\"basefee\"]].mean()"
   ]
  },
  {
   "cell_type": "markdown",
   "metadata": {},
   "source": [
    "When users expect to be included in the next block rather than wait for at least 5, basefee increases! It makes sense if we come back to our payoff definition:\n",
    "\n",
    "$$ \\texttt{payoff} = \\texttt{value} - \\texttt{cost from waiting} - \\texttt{transaction fee} $$\n",
    "\n",
    "The estimated cost for waiting is lower now since users estimate they'll wait 1 block and not 5 to get in. Previously, some users with high values but high time preferences might have been discouraged to join the pool. Now these users don't expect to wait as much, and since their values are high, they don't mind bidding for a higher basefee either. We can check indeed that on average, users included in this last scenario have higher values than users included in the previous one.\n",
    "\n",
    "To do so, we export to pandas `DataFrame`s the user pool (to obtain their values and costs) and the chain (to obtain the addresses of included users in the last 50 blocks)."
   ]
  },
  {
   "cell_type": "code",
   "execution_count": 28,
   "metadata": {},
   "outputs": [],
   "source": [
    "user_pool_opti_df = user_pool_opti.export().rename(columns={ \"pub_key\": \"sender\" })\n",
    "chain_opti_df = chain_opti.export()"
   ]
  },
  {
   "cell_type": "markdown",
   "metadata": {},
   "source": [
    "Let's open these up and see the data we have."
   ]
  },
  {
   "cell_type": "code",
   "execution_count": 29,
   "metadata": {},
   "outputs": [
    {
     "data": {
      "text/html": [
       "<div>\n",
       "<style scoped>\n",
       "    .dataframe tbody tr th:only-of-type {\n",
       "        vertical-align: middle;\n",
       "    }\n",
       "\n",
       "    .dataframe tbody tr th {\n",
       "        vertical-align: top;\n",
       "    }\n",
       "\n",
       "    .dataframe thead th {\n",
       "        text-align: right;\n",
       "    }\n",
       "</style>\n",
       "<table border=\"1\" class=\"dataframe\">\n",
       "  <thead>\n",
       "    <tr style=\"text-align: right;\">\n",
       "      <th></th>\n",
       "      <th>user_type</th>\n",
       "      <th>cost_per_unit</th>\n",
       "      <th>sender</th>\n",
       "      <th>value</th>\n",
       "    </tr>\n",
       "  </thead>\n",
       "  <tbody>\n",
       "    <tr>\n",
       "      <th>798979</th>\n",
       "      <td>affine_user</td>\n",
       "      <td>832882760</td>\n",
       "      <td>b'\\xb4\\xc6\\x9ewc\\xb8\\xd1!'</td>\n",
       "      <td>1724358521</td>\n",
       "    </tr>\n",
       "    <tr>\n",
       "      <th>798980</th>\n",
       "      <td>affine_user</td>\n",
       "      <td>228198353</td>\n",
       "      <td>b'aaqE\\x9bB\\x11V'</td>\n",
       "      <td>6496952700</td>\n",
       "    </tr>\n",
       "    <tr>\n",
       "      <th>798981</th>\n",
       "      <td>affine_user</td>\n",
       "      <td>158321620</td>\n",
       "      <td>b'\\xe8\\xc7&lt;\\xa2\\x8c.t\\xe9'</td>\n",
       "      <td>17026957339</td>\n",
       "    </tr>\n",
       "    <tr>\n",
       "      <th>798982</th>\n",
       "      <td>affine_user</td>\n",
       "      <td>653265790</td>\n",
       "      <td>b'\\xfd7\\xc3\\x81\\xe1\\xe5\\xfes'</td>\n",
       "      <td>215635752</td>\n",
       "    </tr>\n",
       "    <tr>\n",
       "      <th>798983</th>\n",
       "      <td>affine_user</td>\n",
       "      <td>127413225</td>\n",
       "      <td>b'S\\xe7`Q\\x13\\x19V\\xcc'</td>\n",
       "      <td>18142461974</td>\n",
       "    </tr>\n",
       "  </tbody>\n",
       "</table>\n",
       "</div>"
      ],
      "text/plain": [
       "          user_type  cost_per_unit                         sender        value\n",
       "798979  affine_user      832882760     b'\\xb4\\xc6\\x9ewc\\xb8\\xd1!'   1724358521\n",
       "798980  affine_user      228198353              b'aaqE\\x9bB\\x11V'   6496952700\n",
       "798981  affine_user      158321620     b'\\xe8\\xc7<\\xa2\\x8c.t\\xe9'  17026957339\n",
       "798982  affine_user      653265790  b'\\xfd7\\xc3\\x81\\xe1\\xe5\\xfes'    215635752\n",
       "798983  affine_user      127413225        b'S\\xe7`Q\\x13\\x19V\\xcc'  18142461974"
      ]
     },
     "execution_count": 29,
     "metadata": {},
     "output_type": "execute_result"
    }
   ],
   "source": [
    "user_pool_opti_df.tail()"
   ]
  },
  {
   "cell_type": "code",
   "execution_count": 32,
   "metadata": {},
   "outputs": [
    {
     "data": {
      "text/html": [
       "<div>\n",
       "<style scoped>\n",
       "    .dataframe tbody tr th:only-of-type {\n",
       "        vertical-align: middle;\n",
       "    }\n",
       "\n",
       "    .dataframe tbody tr th {\n",
       "        vertical-align: top;\n",
       "    }\n",
       "\n",
       "    .dataframe thead th {\n",
       "        text-align: right;\n",
       "    }\n",
       "</style>\n",
       "<table border=\"1\" class=\"dataframe\">\n",
       "  <thead>\n",
       "    <tr style=\"text-align: right;\">\n",
       "      <th></th>\n",
       "      <th>block_height</th>\n",
       "      <th>tx_index</th>\n",
       "      <th>basefee</th>\n",
       "      <th>start_block</th>\n",
       "      <th>sender</th>\n",
       "      <th>gas_used</th>\n",
       "      <th>tx_hash</th>\n",
       "      <th>gas_premium</th>\n",
       "      <th>max_fee</th>\n",
       "    </tr>\n",
       "  </thead>\n",
       "  <tbody>\n",
       "    <tr>\n",
       "      <th>106919</th>\n",
       "      <td>199</td>\n",
       "      <td>509</td>\n",
       "      <td>16.829598</td>\n",
       "      <td>199</td>\n",
       "      <td>b'\\xd0\\x08\\n \\x10\\x7f\\x17\\x9a'</td>\n",
       "      <td>21000</td>\n",
       "      <td>b'\\x0f0\\xa129\\xb4\\x1e\\xea'</td>\n",
       "      <td>1.0</td>\n",
       "      <td>18.518150</td>\n",
       "    </tr>\n",
       "    <tr>\n",
       "      <th>106920</th>\n",
       "      <td>199</td>\n",
       "      <td>510</td>\n",
       "      <td>16.829598</td>\n",
       "      <td>199</td>\n",
       "      <td>b'\\xba\\xd6g\\x90z\\xf6\\xbf\\x0b'</td>\n",
       "      <td>21000</td>\n",
       "      <td>b'\\x82{EV+\\xd3CH'</td>\n",
       "      <td>1.0</td>\n",
       "      <td>19.208279</td>\n",
       "    </tr>\n",
       "    <tr>\n",
       "      <th>106921</th>\n",
       "      <td>199</td>\n",
       "      <td>511</td>\n",
       "      <td>16.829598</td>\n",
       "      <td>199</td>\n",
       "      <td>b'\\nL\\xf6\\xf6\\xdbV\\xd8\\xd3'</td>\n",
       "      <td>21000</td>\n",
       "      <td>b'\\x10\\x01\\x9d\\x9aV\\xa6\\x08`'</td>\n",
       "      <td>1.0</td>\n",
       "      <td>19.853768</td>\n",
       "    </tr>\n",
       "    <tr>\n",
       "      <th>106922</th>\n",
       "      <td>199</td>\n",
       "      <td>512</td>\n",
       "      <td>16.829598</td>\n",
       "      <td>199</td>\n",
       "      <td>b'\\xe6\\x19\\x86\\xa0\\xc7\\xe9|\\xbf'</td>\n",
       "      <td>21000</td>\n",
       "      <td>b'\\xc0\\x86\\xeb\\x87\\x14I\\x86\\xd1'</td>\n",
       "      <td>1.0</td>\n",
       "      <td>18.956538</td>\n",
       "    </tr>\n",
       "    <tr>\n",
       "      <th>106923</th>\n",
       "      <td>199</td>\n",
       "      <td>513</td>\n",
       "      <td>16.829598</td>\n",
       "      <td>199</td>\n",
       "      <td>b'S\\xe7`Q\\x13\\x19V\\xcc'</td>\n",
       "      <td>21000</td>\n",
       "      <td>b'\\xcd\\xc8\\x9f\\xe6O7\\xb1\\x80'</td>\n",
       "      <td>1.0</td>\n",
       "      <td>18.142462</td>\n",
       "    </tr>\n",
       "  </tbody>\n",
       "</table>\n",
       "</div>"
      ],
      "text/plain": [
       "        block_height  tx_index    basefee  start_block  \\\n",
       "106919           199       509  16.829598          199   \n",
       "106920           199       510  16.829598          199   \n",
       "106921           199       511  16.829598          199   \n",
       "106922           199       512  16.829598          199   \n",
       "106923           199       513  16.829598          199   \n",
       "\n",
       "                                  sender  gas_used  \\\n",
       "106919    b'\\xd0\\x08\\n \\x10\\x7f\\x17\\x9a'     21000   \n",
       "106920     b'\\xba\\xd6g\\x90z\\xf6\\xbf\\x0b'     21000   \n",
       "106921       b'\\nL\\xf6\\xf6\\xdbV\\xd8\\xd3'     21000   \n",
       "106922  b'\\xe6\\x19\\x86\\xa0\\xc7\\xe9|\\xbf'     21000   \n",
       "106923           b'S\\xe7`Q\\x13\\x19V\\xcc'     21000   \n",
       "\n",
       "                                 tx_hash  gas_premium    max_fee  \n",
       "106919        b'\\x0f0\\xa129\\xb4\\x1e\\xea'          1.0  18.518150  \n",
       "106920                 b'\\x82{EV+\\xd3CH'          1.0  19.208279  \n",
       "106921     b'\\x10\\x01\\x9d\\x9aV\\xa6\\x08`'          1.0  19.853768  \n",
       "106922  b'\\xc0\\x86\\xeb\\x87\\x14I\\x86\\xd1'          1.0  18.956538  \n",
       "106923     b'\\xcd\\xc8\\x9f\\xe6O7\\xb1\\x80'          1.0  18.142462  "
      ]
     },
     "execution_count": 32,
     "metadata": {},
     "output_type": "execute_result"
    }
   ],
   "source": [
    "chain_opti_df.tail()"
   ]
  },
  {
   "cell_type": "markdown",
   "metadata": {},
   "source": [
    "With a simple join on the `sender` column we can associate the value of each user with the transaction. Then we average on this value."
   ]
  },
  {
   "cell_type": "code",
   "execution_count": 38,
   "metadata": {},
   "outputs": [
    {
     "data": {
      "text/plain": [
       "value    1.917938e+10\n",
       "dtype: float64"
      ]
     },
     "execution_count": 38,
     "metadata": {},
     "output_type": "execute_result"
    }
   ],
   "source": [
    "chain_opti_df[(chain_opti_df.block_height >= 150)].join(user_pool_opti_df.set_index(\"sender\"), on=\"sender\")[[\"value\"]].mean()"
   ]
  },
  {
   "cell_type": "markdown",
   "metadata": {},
   "source": [
    "When users expect to be included at least one block after, the average value of included users is around 19.2 Gwei."
   ]
  },
  {
   "cell_type": "code",
   "execution_count": 40,
   "metadata": {},
   "outputs": [
    {
     "data": {
      "text/plain": [
       "value    1.867035e+10\n",
       "dtype: float64"
      ]
     },
     "execution_count": 40,
     "metadata": {},
     "output_type": "execute_result"
    }
   ],
   "source": [
    "user_pool_jump_df = user_pool_jump.export().rename(columns={ \"pub_key\": \"sender\" })\n",
    "chain_jump_df = chain_jump.export()\n",
    "chain_jump_df[(chain_jump_df.block_height >= 150)].join(user_pool_jump_df.set_index(\"sender\"), on=\"sender\")[[\"value\"]].mean()"
   ]
  },
  {
   "cell_type": "markdown",
   "metadata": {},
   "source": [
    "But when users expect to be included at least _five_ blocks after, the average value of included users is around 18.7 Gwei, confirming that when users expect next block inclusion, higher value users get in and raise the basefee in the process."
   ]
  },
  {
   "cell_type": "markdown",
   "metadata": {},
   "source": [
    "## Conclusion\n",
    "\n",
    "We've looked at 1559 when users with own values and costs decide whether to join the pool or not based on the current basefee level. These users estimate their ultimate payoff by assuming _stationarity_: demand following the same arrival process and same distribution of values and costs comes in between rounds. In this stationary environment, basefee settles on some value and mostly stays there, allowing users to estimate their payoff should they wait for five or one blocks to be included.\n",
    "\n",
    "We've again left aside some important questions. Here all users simply leave a 1 Gwei premium in their transactions. In reality, we should expect that users would attempt to \"game\" the system by leaving higher tips to get in first. In a stationary environment however, \"gaming\" would only be possible until basefee reaches its stationary point (during the transition period) and exhausts the feasible demand. We could simulate this and will leave it for another notebook.\n",
    "\n",
    "(Temporary) nonstationarity is more interesting. The [5% meme](https://insights.deribit.com/market-research/analysis-of-eip-2593-escalator/) during which sudden demand shocks precipitate large influx of new, high-valued transactions should also see users try to outcompete each other based on premiums alone, until basefee catches up. The question of whether 1559 offers anything in this case or whether the whole situation would look like a first price auction may be better settled empirically, but we can intuit that 1559 would smooth the process slightly by offering a (laggy) price oracle.\n",
    "\n",
    "And then we have the question of miner collusion, which rightfully agitates a lot of the ongoing conversation. In the simulations we do here, we instantiated one transaction pool only, which should tell you that we are looking at a \"centralised\", honest miner that includes transactions as much as possible, and not a collection or a cartel of miners cooperating. We can of course weaken this assumption and have several mining pools with their own behaviours and payoff evaluations, much like we modelled our users. We still would like to have a good theoretical understanding of the risks and applicability of miner collusion strategies. Onward!"
   ]
  }
 ],
 "metadata": {
  "kernelspec": {
   "display_name": "Python 3",
   "language": "python",
   "name": "python3"
  },
  "language_info": {
   "codemirror_mode": {
    "name": "ipython",
    "version": 3
   },
   "file_extension": ".py",
   "mimetype": "text/x-python",
   "name": "python",
   "nbconvert_exporter": "python",
   "pygments_lexer": "ipython3",
   "version": "3.8.2"
  }
 },
 "nbformat": 4,
 "nbformat_minor": 4
}
