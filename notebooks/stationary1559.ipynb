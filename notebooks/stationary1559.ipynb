{
 "cells": [
  {
   "cell_type": "markdown",
   "metadata": {},
   "source": [
    "# Stationary behaviour of EIP 1559 agent-based model\n",
    "\n",
    "###### July 2020, [@barnabemonnot](https://twitter.com/barnabemonnot)\n",
    "###### [Robust Incentives Group](https://github.com/ethereum/rig), Ethereum Foundation\n",
    "\n",
    "---\n",
    "\n",
    "We introduce here the building blocks of agent-based simulations of EIP1559. All the code is available in [this repo](https://github.com/barnabemonnot/abm1559), with some preliminary documentation [here](https://barnabemonnot.com/abm1559/build/html/).\n",
    "\n",
    "## The broad lines\n",
    "\n",
    "We have several entities. _Users_ come in randomly (following a Poisson process) and create and send transactions. The transactions are received by a _transaction pool_, from which the $x$ best _valid_ transactions are included in a _block_ created at fixed intervals. $x$ depends of how many valid transactions exist in the pool (e.g., how many post a gasprice exceeding the prevailing basefee in 1559 paradigm) and the block gas limit. Once transactions are included in the block, and the block is included in the _chain_, transactions are removed from the transaction pool.\n",
    "\n",
    "How do users set their parameters? Users have their own internal ways of evaluating their costs, detailed below. Users obtain a certain value from having their transaction included, which we call $v$. This value is fixed but their overall payoff decreases the longer they wait to be included. Some users have higher time-preferences than others, and their payoff decreases faster than others the longer they wait.\n",
    "\n",
    "Users expect to wait for a certain amount of time. In this essay, we set this to a fixed value -- somewhat arbitrarily we chose 5. This can be readily understood in the following way. Users estimate what their payoff will be from getting included 5 blocks from now, assuming basefee remains constant. If this payoff is negative, i.e., if their value minus the cost incurred from the wait is negative, they decide not to send the transaction to the pool (in queuing terminology, they _balk_).\n",
    "\n",
    "The scenario is set up this way to study _stationarity_: assuming some demand comes in from a fixed distribution at regular intervals, we must expect basefee to reach some stationary value. It is enough then for users, at this stationary point, to consider that 5 blocks from now basefee will still be at the same level. In the nonstationary case, when for instance a systemic change in the demand happens (e.g., the rate of Poisson arrivals increases), a user may want to hedge their bets by estimating their future payoffs in a different way, taking into account that basefee might increase instead.\n",
    "\n",
    "We make the assumption here that users choose their 1559 parameters based on their value alone. We set the transaction `max_fee` parameter to the value of the user and the `gas_premium` parameter is set to a residual value, here 1 Gwei per unit of gas. There is no loss of generality in assuming all users send the same transaction in (e.g., a simple transfer) and so all transactions have the same `gas_used` value. In 1559 paradigm, with a 20M gas limit per block, this allows at most 952 transactions to be included.\n",
    "\n",
    "## Simulation\n",
    "\n",
    "We import a few classes from our `abm1559` package."
   ]
  },
  {
   "cell_type": "code",
   "execution_count": 1,
   "metadata": {},
   "outputs": [],
   "source": [
    "import os, sys\n",
    "sys.path.insert(1, os.path.realpath(os.path.pardir))\n",
    "# You may remove the two lines above if you have installed abm1559 from pypi\n",
    "\n",
    "from abm1559.utils import constants\n",
    "\n",
    "from abm1559.txpool import TxPool\n",
    "\n",
    "from abm1559.users import User1559\n",
    "\n",
    "from abm1559.chain import (\n",
    "    Chain,\n",
    "    Block1559,\n",
    ")\n",
    "\n",
    "from abm1559.simulator import (\n",
    "    spawn_poisson_demand,\n",
    "    decide_transactions,\n",
    "    update_basefee,\n",
    ")\n",
    "\n",
    "import pandas as pd"
   ]
  },
  {
   "cell_type": "markdown",
   "metadata": {},
   "source": [
    "This is the main function used to simulate the fee market. It takes in a `demand_scenario` array. We've seen that each round, we draw the number of users wishing to send transactions from a Poisson distribution. [This distribution is parameterised by the expected number of arrivals, called _lambda_ $\\lambda$](https://en.wikipedia.org/wiki/Poisson_distribution). The `demand_scenario` array contains a sequence of such lambda's. We also provide in `UserClass` the type of user we would like to model (see the [docs]() for more details)."
   ]
  },
  {
   "cell_type": "code",
   "execution_count": 2,
   "metadata": {},
   "outputs": [],
   "source": [
    "def simulate(demand_scenario, UserClass):\n",
    "    # Instantiate a couple of things\n",
    "    txpool = TxPool()\n",
    "    basefee = constants[\"INITIAL_BASEFEE\"]\n",
    "    chain = Chain()\n",
    "    metrics = []\n",
    "\n",
    "    for t in range(len(demand_scenario)):\n",
    "        if t % 100 == 0: print(t)\n",
    "\n",
    "        # `params` are the \"environment\" of the simulation\n",
    "        params = {\n",
    "            \"basefee\": basefee,\n",
    "            \"current_block\": t,\n",
    "        }\n",
    "\n",
    "        # We return some demand which on expectation yields 2000 new users per round\n",
    "        users = spawn_poisson_demand(t, demand_scenario[t], UserClass)\n",
    "\n",
    "        # We query each new user with the current basefee value\n",
    "        # Users either return a transaction or None if they prefer to balk\n",
    "        decided_txs = decide_transactions(users, params)\n",
    "\n",
    "        # New transactions are added to the transaction pool\n",
    "        txpool.add_txs(decided_txs)\n",
    "\n",
    "        # The best valid transactions are taken out of the pool for inclusion\n",
    "        selected_txs = txpool.select_transactions(params)\n",
    "        txpool.remove_txs([tx.tx_hash for tx in selected_txs])\n",
    "\n",
    "        # We create a block with these transactions\n",
    "        block = Block1559(txs = selected_txs, parent_hash = chain.current_head, height = t, basefee = basefee)\n",
    "\n",
    "        # The block is added to the chain\n",
    "        chain.add_block(block)\n",
    "\n",
    "        # A couple of metrics we will use to monitor the simulation\n",
    "        row_metrics = {\n",
    "            \"timestep\": t,\n",
    "            \"basefee\": basefee / (10 ** 9),\n",
    "            \"users\": len(users),\n",
    "            \"decided_txs\": len(decided_txs),\n",
    "            \"included_txs\": len(selected_txs),\n",
    "            \"blk_avg_gas_price\": block.average_gas_price(),\n",
    "            \"blk_avg_tip\": block.average_tip(),\n",
    "            \"blk_avg_waiting_time\": block.average_waiting_time(),\n",
    "            \"pool_length\": txpool.pool_length,\n",
    "            \"pool_avg_gas_price\": txpool.average_gas_price(params),\n",
    "            \"pool_avg_tip\": txpool.average_tip(params),\n",
    "            \"pool_avg_waiting_time\": txpool.average_waiting_time(t),\n",
    "        }\n",
    "        metrics.append(row_metrics)\n",
    "\n",
    "        # Finally, basefee is updated and a new round starts\n",
    "        basefee = update_basefee(block, basefee)\n",
    "\n",
    "    return pd.DataFrame(metrics)"
   ]
  },
  {
   "cell_type": "markdown",
   "metadata": {},
   "source": [
    "To study the stationary case, we start with an array containing the same value for as many time steps as we wish to simulate the market for. We'll set that value to expecting 2000 users spawning between two blocks, for 200 timesteps."
   ]
  },
  {
   "cell_type": "code",
   "execution_count": 3,
   "metadata": {},
   "outputs": [
    {
     "name": "stdout",
     "output_type": "stream",
     "text": [
      "0\n",
      "100\n"
     ]
    }
   ],
   "source": [
    "demand_scenario = [2000 for i in range(200)]\n",
    "df = simulate(demand_scenario, User1559)"
   ]
  },
  {
   "cell_type": "markdown",
   "metadata": {},
   "source": [
    "## Results\n",
    "\n",
    "Let's print the head and tail of the data frame holding our metrics. Each row corresponds to one round of our simulation, so one block."
   ]
  },
  {
   "cell_type": "code",
   "execution_count": 4,
   "metadata": {},
   "outputs": [
    {
     "data": {
      "text/html": [
       "<div>\n",
       "<style scoped>\n",
       "    .dataframe tbody tr th:only-of-type {\n",
       "        vertical-align: middle;\n",
       "    }\n",
       "\n",
       "    .dataframe tbody tr th {\n",
       "        vertical-align: top;\n",
       "    }\n",
       "\n",
       "    .dataframe thead th {\n",
       "        text-align: right;\n",
       "    }\n",
       "</style>\n",
       "<table border=\"1\" class=\"dataframe\">\n",
       "  <thead>\n",
       "    <tr style=\"text-align: right;\">\n",
       "      <th></th>\n",
       "      <th>timestep</th>\n",
       "      <th>basefee</th>\n",
       "      <th>users</th>\n",
       "      <th>decided_txs</th>\n",
       "      <th>included_txs</th>\n",
       "      <th>blk_avg_gas_price</th>\n",
       "      <th>blk_avg_tip</th>\n",
       "      <th>blk_avg_waiting_time</th>\n",
       "      <th>pool_length</th>\n",
       "      <th>pool_avg_gas_price</th>\n",
       "      <th>pool_avg_tip</th>\n",
       "      <th>pool_avg_waiting_time</th>\n",
       "    </tr>\n",
       "  </thead>\n",
       "  <tbody>\n",
       "    <tr>\n",
       "      <th>0</th>\n",
       "      <td>0</td>\n",
       "      <td>1.000000</td>\n",
       "      <td>2056</td>\n",
       "      <td>1624</td>\n",
       "      <td>952</td>\n",
       "      <td>2.000000</td>\n",
       "      <td>1.0</td>\n",
       "      <td>0.000000</td>\n",
       "      <td>672</td>\n",
       "      <td>2.000000</td>\n",
       "      <td>1.000000</td>\n",
       "      <td>0.000000</td>\n",
       "    </tr>\n",
       "    <tr>\n",
       "      <th>1</th>\n",
       "      <td>1</td>\n",
       "      <td>1.124900</td>\n",
       "      <td>1934</td>\n",
       "      <td>1474</td>\n",
       "      <td>952</td>\n",
       "      <td>2.124900</td>\n",
       "      <td>1.0</td>\n",
       "      <td>0.705882</td>\n",
       "      <td>1194</td>\n",
       "      <td>2.124900</td>\n",
       "      <td>1.000000</td>\n",
       "      <td>0.000000</td>\n",
       "    </tr>\n",
       "    <tr>\n",
       "      <th>2</th>\n",
       "      <td>2</td>\n",
       "      <td>1.265400</td>\n",
       "      <td>1932</td>\n",
       "      <td>1460</td>\n",
       "      <td>952</td>\n",
       "      <td>2.265400</td>\n",
       "      <td>1.0</td>\n",
       "      <td>1.000000</td>\n",
       "      <td>1702</td>\n",
       "      <td>2.265400</td>\n",
       "      <td>1.000000</td>\n",
       "      <td>0.142186</td>\n",
       "    </tr>\n",
       "    <tr>\n",
       "      <th>3</th>\n",
       "      <td>3</td>\n",
       "      <td>1.423448</td>\n",
       "      <td>1987</td>\n",
       "      <td>1492</td>\n",
       "      <td>952</td>\n",
       "      <td>2.423448</td>\n",
       "      <td>1.0</td>\n",
       "      <td>1.254202</td>\n",
       "      <td>2242</td>\n",
       "      <td>2.423396</td>\n",
       "      <td>0.999948</td>\n",
       "      <td>0.334523</td>\n",
       "    </tr>\n",
       "    <tr>\n",
       "      <th>4</th>\n",
       "      <td>4</td>\n",
       "      <td>1.601237</td>\n",
       "      <td>1965</td>\n",
       "      <td>1449</td>\n",
       "      <td>952</td>\n",
       "      <td>2.601237</td>\n",
       "      <td>1.0</td>\n",
       "      <td>1.786765</td>\n",
       "      <td>2739</td>\n",
       "      <td>2.601130</td>\n",
       "      <td>0.999892</td>\n",
       "      <td>0.471340</td>\n",
       "    </tr>\n",
       "    <tr>\n",
       "      <th>...</th>\n",
       "      <td>...</td>\n",
       "      <td>...</td>\n",
       "      <td>...</td>\n",
       "      <td>...</td>\n",
       "      <td>...</td>\n",
       "      <td>...</td>\n",
       "      <td>...</td>\n",
       "      <td>...</td>\n",
       "      <td>...</td>\n",
       "      <td>...</td>\n",
       "      <td>...</td>\n",
       "      <td>...</td>\n",
       "    </tr>\n",
       "    <tr>\n",
       "      <th>195</th>\n",
       "      <td>195</td>\n",
       "      <td>11.703537</td>\n",
       "      <td>1909</td>\n",
       "      <td>468</td>\n",
       "      <td>468</td>\n",
       "      <td>12.703537</td>\n",
       "      <td>1.0</td>\n",
       "      <td>0.000000</td>\n",
       "      <td>1606</td>\n",
       "      <td>8.749221</td>\n",
       "      <td>-2.954315</td>\n",
       "      <td>181.661893</td>\n",
       "    </tr>\n",
       "    <tr>\n",
       "      <th>196</th>\n",
       "      <td>196</td>\n",
       "      <td>11.678374</td>\n",
       "      <td>2006</td>\n",
       "      <td>452</td>\n",
       "      <td>452</td>\n",
       "      <td>12.678374</td>\n",
       "      <td>1.0</td>\n",
       "      <td>0.000000</td>\n",
       "      <td>1606</td>\n",
       "      <td>8.749221</td>\n",
       "      <td>-2.929153</td>\n",
       "      <td>182.661893</td>\n",
       "    </tr>\n",
       "    <tr>\n",
       "      <th>197</th>\n",
       "      <td>197</td>\n",
       "      <td>11.604216</td>\n",
       "      <td>1991</td>\n",
       "      <td>473</td>\n",
       "      <td>473</td>\n",
       "      <td>12.604216</td>\n",
       "      <td>1.0</td>\n",
       "      <td>0.000000</td>\n",
       "      <td>1606</td>\n",
       "      <td>8.749221</td>\n",
       "      <td>-2.854995</td>\n",
       "      <td>183.661893</td>\n",
       "    </tr>\n",
       "    <tr>\n",
       "      <th>198</th>\n",
       "      <td>198</td>\n",
       "      <td>11.594498</td>\n",
       "      <td>2042</td>\n",
       "      <td>492</td>\n",
       "      <td>492</td>\n",
       "      <td>12.594498</td>\n",
       "      <td>1.0</td>\n",
       "      <td>0.000000</td>\n",
       "      <td>1606</td>\n",
       "      <td>8.749221</td>\n",
       "      <td>-2.845277</td>\n",
       "      <td>184.661893</td>\n",
       "    </tr>\n",
       "    <tr>\n",
       "      <th>199</th>\n",
       "      <td>199</td>\n",
       "      <td>11.642615</td>\n",
       "      <td>1989</td>\n",
       "      <td>462</td>\n",
       "      <td>462</td>\n",
       "      <td>12.642615</td>\n",
       "      <td>1.0</td>\n",
       "      <td>0.000000</td>\n",
       "      <td>1606</td>\n",
       "      <td>8.749221</td>\n",
       "      <td>-2.893394</td>\n",
       "      <td>185.661893</td>\n",
       "    </tr>\n",
       "  </tbody>\n",
       "</table>\n",
       "<p>200 rows × 12 columns</p>\n",
       "</div>"
      ],
      "text/plain": [
       "     timestep    basefee  users  decided_txs  included_txs  blk_avg_gas_price  \\\n",
       "0           0   1.000000   2056         1624           952           2.000000   \n",
       "1           1   1.124900   1934         1474           952           2.124900   \n",
       "2           2   1.265400   1932         1460           952           2.265400   \n",
       "3           3   1.423448   1987         1492           952           2.423448   \n",
       "4           4   1.601237   1965         1449           952           2.601237   \n",
       "..        ...        ...    ...          ...           ...                ...   \n",
       "195       195  11.703537   1909          468           468          12.703537   \n",
       "196       196  11.678374   2006          452           452          12.678374   \n",
       "197       197  11.604216   1991          473           473          12.604216   \n",
       "198       198  11.594498   2042          492           492          12.594498   \n",
       "199       199  11.642615   1989          462           462          12.642615   \n",
       "\n",
       "     blk_avg_tip  blk_avg_waiting_time  pool_length  pool_avg_gas_price  \\\n",
       "0            1.0              0.000000          672            2.000000   \n",
       "1            1.0              0.705882         1194            2.124900   \n",
       "2            1.0              1.000000         1702            2.265400   \n",
       "3            1.0              1.254202         2242            2.423396   \n",
       "4            1.0              1.786765         2739            2.601130   \n",
       "..           ...                   ...          ...                 ...   \n",
       "195          1.0              0.000000         1606            8.749221   \n",
       "196          1.0              0.000000         1606            8.749221   \n",
       "197          1.0              0.000000         1606            8.749221   \n",
       "198          1.0              0.000000         1606            8.749221   \n",
       "199          1.0              0.000000         1606            8.749221   \n",
       "\n",
       "     pool_avg_tip  pool_avg_waiting_time  \n",
       "0        1.000000               0.000000  \n",
       "1        1.000000               0.000000  \n",
       "2        1.000000               0.142186  \n",
       "3        0.999948               0.334523  \n",
       "4        0.999892               0.471340  \n",
       "..            ...                    ...  \n",
       "195     -2.954315             181.661893  \n",
       "196     -2.929153             182.661893  \n",
       "197     -2.854995             183.661893  \n",
       "198     -2.845277             184.661893  \n",
       "199     -2.893394             185.661893  \n",
       "\n",
       "[200 rows x 12 columns]"
      ]
     },
     "execution_count": 4,
     "metadata": {},
     "output_type": "execute_result"
    }
   ],
   "source": [
    "df"
   ]
  },
  {
   "cell_type": "markdown",
   "metadata": {},
   "source": [
    "At the start of the simulation we clearly see in column `users` a demand around 2000 users per round. Among these 2000 or so, around 1500 decide to send their transaction in (`decided_txs`). Eventually 952 of them are included (`included_txs`), maxing out the block gas limit. The basefee starts at 1 Gwei but steadily increases from there.\n",
    "\n",
    "By the end of the simulation, we note that `decided_txs` is always equal to `included_txs`. By this point, the basefee has risen enough to make most users find sending their transaction is unprofitable. This is exactly what we want! Users balk at the current prices.\n",
    "\n",
    "In the next chart we show the evolution of basefee and gas price. We define _tip_ as the gas price minus the basefee. Note that [it is in general **not** equal to the gas premium](https://twitter.com/barnabemonnot/status/1284271520311848960) that users set, in particular when basefee plus gas premium exceeds the max fee of the user. In the graph below, the tip hovers around 1 Gwei (the premium), but is sometimes less than 1 too, especially when users see their posted max fees approached by the prevailing basefee."
   ]
  },
  {
   "cell_type": "code",
   "execution_count": 5,
   "metadata": {},
   "outputs": [
    {
     "data": {
      "text/plain": [
       "<AxesSubplot:xlabel='timestep'>"
      ]
     },
     "execution_count": 5,
     "metadata": {},
     "output_type": "execute_result"
    },
    {
     "data": {
      "image/png": "[encoded data removed]",
      "text/plain": [
       "<Figure size 432x288 with 1 Axes>"
      ]
     },
     "metadata": {
      "needs_background": "light"
     },
     "output_type": "display_data"
    }
   ],
   "source": [
    "df.plot(\"timestep\", [\"basefee\", \"blk_avg_gas_price\", \"blk_avg_tip\", \"pool_avg_gas_price\"])"
   ]
  },
  {
   "cell_type": "markdown",
   "metadata": {},
   "source": [
    "Notice the increase at the beginning followed by a short drop? At the very beginning, the pool fills up quickly with many users hopeful to get their transactions in with a positive resulting payoff. The basefee increases until users start balking **and** the pool is exhausted. Once exhausted, basefee starts decreasing again to settle at the stationary point where the pool only includes transactions that are invalid given the stationary basefee (see also the average gas price of transaction in the pool, with the red line well below the basefee even).\n",
    "\n",
    "We can see the pool length becoming stationary in the next plot, showing the length of the pool over time."
   ]
  },
  {
   "cell_type": "code",
   "execution_count": 6,
   "metadata": {},
   "outputs": [
    {
     "data": {
      "text/plain": [
       "<AxesSubplot:xlabel='timestep'>"
      ]
     },
     "execution_count": 6,
     "metadata": {},
     "output_type": "execute_result"
    },
    {
     "data": {
      "image/png": "[encoded data removed]",
      "text/plain": [
       "<Figure size 432x288 with 1 Axes>"
      ]
     },
     "metadata": {
      "needs_background": "light"
     },
     "output_type": "display_data"
    }
   ],
   "source": [
    "df.plot(\"timestep\", \"pool_length\")"
   ]
  },
  {
   "cell_type": "markdown",
   "metadata": {},
   "source": [
    "Remaining transactions are likely from early users who did not balk even though basefee was increasing, and who were quickly outbid by others."
   ]
  },
  {
   "cell_type": "markdown",
   "metadata": {},
   "source": [
    "## Demand shock\n",
    "\n",
    "We look at a stationary setting, where the new demand coming in each new round follows a fixed expected rate of arrival. Demand shocks may be of two kinds:\n",
    "\n",
    "- Same number of users, different values for transactions and costs for waiting.\n",
    "- Increased number of users, same values and costs.\n",
    "\n",
    "We'll consider the second scenario here, simply running the simulation again and increasing the parameter of our Poisson arrival process suddenly, from expecting 2000 users per round to 6000."
   ]
  },
  {
   "cell_type": "code",
   "execution_count": 7,
   "metadata": {},
   "outputs": [
    {
     "name": "stdout",
     "output_type": "stream",
     "text": [
      "0\n",
      "100\n"
     ]
    }
   ],
   "source": [
    "demand_scenario = [2000 for i in range(100)] + [6000 for i in range(100)]\n",
    "df_jump = simulate(demand_scenario, User1559)"
   ]
  },
  {
   "cell_type": "code",
   "execution_count": 8,
   "metadata": {},
   "outputs": [
    {
     "data": {
      "text/plain": [
       "<AxesSubplot:xlabel='timestep'>"
      ]
     },
     "execution_count": 8,
     "metadata": {},
     "output_type": "execute_result"
    },
    {
     "data": {
      "image/png": "[encoded data removed]",
      "text/plain": [
       "<Figure size 432x288 with 1 Axes>"
      ]
     },
     "metadata": {
      "needs_background": "light"
     },
     "output_type": "display_data"
    }
   ],
   "source": [
    "df_jump.plot(\"timestep\", \"users\")"
   ]
  },
  {
   "cell_type": "code",
   "execution_count": 9,
   "metadata": {},
   "outputs": [
    {
     "data": {
      "text/plain": [
       "<AxesSubplot:xlabel='timestep'>"
      ]
     },
     "execution_count": 9,
     "metadata": {},
     "output_type": "execute_result"
    },
    {
     "data": {
      "image/png": "[encoded data removed]",
      "text/plain": [
       "<Figure size 432x288 with 1 Axes>"
      ]
     },
     "metadata": {
      "needs_background": "light"
     },
     "output_type": "display_data"
    }
   ],
   "source": [
    "df_jump.plot(\"timestep\", [\"basefee\", \"blk_avg_gas_price\", \"blk_avg_tip\", \"pool_avg_gas_price\"])"
   ]
  },
  {
   "cell_type": "markdown",
   "metadata": {},
   "source": [
    "We see a jump around timestep 200, when the arrival rate of users switches from 2000 to 6000. Basefee increases in response. With a block limit of 20M gas, about 950 transactions fit in each block. Targetting half of this value, basefee increases until more or less 475 transactions are included in each block.\n",
    "\n",
    "Since our users' values and costs are always drawn from the same distribution, we expect when 2000 users show up to let in about 25% of them (~ 475 / 2000), the 25% with greatest expected payoff should they wait 5 blocks to get in. When 6000 users come in, we now expect the 8% (~ 475 / 6000) \"richest\" to get in only, so we obviously \"raise the bar\" for the basefee, since we need to discriminate more."
   ]
  },
  {
   "cell_type": "code",
   "execution_count": 10,
   "metadata": {},
   "outputs": [
    {
     "data": {
      "text/plain": [
       "<AxesSubplot:xlabel='timestep'>"
      ]
     },
     "execution_count": 10,
     "metadata": {},
     "output_type": "execute_result"
    },
    {
     "data": {
      "image/png": "[encoded data removed]",
      "text/plain": [
       "<Figure size 432x288 with 1 Axes>"
      ]
     },
     "metadata": {
      "needs_background": "light"
     },
     "output_type": "display_data"
    }
   ],
   "source": [
    "df_jump.plot(\"timestep\", [\"pool_length\", \"users\", \"decided_txs\", \"included_txs\"])"
   ]
  },
  {
   "cell_type": "markdown",
   "metadata": {},
   "source": [
    "As we see with the graph above, for a short while blocks include more than the usual ~475 transactions: since we have a whole bunch of new users, more of them are willing and able to pay for their transactions above the basefee, and thus get included."
   ]
  },
  {
   "cell_type": "code",
   "execution_count": 14,
   "metadata": {},
   "outputs": [
    {
     "data": {
      "text/html": [
       "<div>\n",
       "<style scoped>\n",
       "    .dataframe tbody tr th:only-of-type {\n",
       "        vertical-align: middle;\n",
       "    }\n",
       "\n",
       "    .dataframe tbody tr th {\n",
       "        vertical-align: top;\n",
       "    }\n",
       "\n",
       "    .dataframe thead th {\n",
       "        text-align: right;\n",
       "    }\n",
       "</style>\n",
       "<table border=\"1\" class=\"dataframe\">\n",
       "  <thead>\n",
       "    <tr style=\"text-align: right;\">\n",
       "      <th></th>\n",
       "      <th>timestep</th>\n",
       "      <th>basefee</th>\n",
       "      <th>users</th>\n",
       "      <th>decided_txs</th>\n",
       "      <th>included_txs</th>\n",
       "      <th>blk_avg_gas_price</th>\n",
       "      <th>blk_avg_tip</th>\n",
       "      <th>blk_avg_waiting_time</th>\n",
       "      <th>pool_length</th>\n",
       "      <th>pool_avg_gas_price</th>\n",
       "      <th>pool_avg_tip</th>\n",
       "      <th>pool_avg_waiting_time</th>\n",
       "    </tr>\n",
       "  </thead>\n",
       "  <tbody>\n",
       "    <tr>\n",
       "      <th>195</th>\n",
       "      <td>195</td>\n",
       "      <td>15.281417</td>\n",
       "      <td>5931</td>\n",
       "      <td>403</td>\n",
       "      <td>403</td>\n",
       "      <td>16.281417</td>\n",
       "      <td>1.0</td>\n",
       "      <td>0.0</td>\n",
       "      <td>1667</td>\n",
       "      <td>8.742472</td>\n",
       "      <td>-6.538946</td>\n",
       "      <td>179.95081</td>\n",
       "    </tr>\n",
       "    <tr>\n",
       "      <th>196</th>\n",
       "      <td>196</td>\n",
       "      <td>14.987823</td>\n",
       "      <td>6089</td>\n",
       "      <td>478</td>\n",
       "      <td>478</td>\n",
       "      <td>15.987823</td>\n",
       "      <td>1.0</td>\n",
       "      <td>0.0</td>\n",
       "      <td>1667</td>\n",
       "      <td>8.742472</td>\n",
       "      <td>-6.245351</td>\n",
       "      <td>180.95081</td>\n",
       "    </tr>\n",
       "    <tr>\n",
       "      <th>197</th>\n",
       "      <td>197</td>\n",
       "      <td>14.994942</td>\n",
       "      <td>5957</td>\n",
       "      <td>483</td>\n",
       "      <td>483</td>\n",
       "      <td>15.994942</td>\n",
       "      <td>1.0</td>\n",
       "      <td>0.0</td>\n",
       "      <td>1667</td>\n",
       "      <td>8.742472</td>\n",
       "      <td>-6.252471</td>\n",
       "      <td>181.95081</td>\n",
       "    </tr>\n",
       "    <tr>\n",
       "      <th>198</th>\n",
       "      <td>198</td>\n",
       "      <td>15.021746</td>\n",
       "      <td>5959</td>\n",
       "      <td>455</td>\n",
       "      <td>455</td>\n",
       "      <td>16.021746</td>\n",
       "      <td>1.0</td>\n",
       "      <td>0.0</td>\n",
       "      <td>1667</td>\n",
       "      <td>8.742472</td>\n",
       "      <td>-6.279274</td>\n",
       "      <td>182.95081</td>\n",
       "    </tr>\n",
       "    <tr>\n",
       "      <th>199</th>\n",
       "      <td>199</td>\n",
       "      <td>14.938187</td>\n",
       "      <td>5984</td>\n",
       "      <td>553</td>\n",
       "      <td>553</td>\n",
       "      <td>15.938187</td>\n",
       "      <td>1.0</td>\n",
       "      <td>0.0</td>\n",
       "      <td>1667</td>\n",
       "      <td>8.742472</td>\n",
       "      <td>-6.195716</td>\n",
       "      <td>183.95081</td>\n",
       "    </tr>\n",
       "  </tbody>\n",
       "</table>\n",
       "</div>"
      ],
      "text/plain": [
       "     timestep    basefee  users  decided_txs  included_txs  blk_avg_gas_price  \\\n",
       "195       195  15.281417   5931          403           403          16.281417   \n",
       "196       196  14.987823   6089          478           478          15.987823   \n",
       "197       197  14.994942   5957          483           483          15.994942   \n",
       "198       198  15.021746   5959          455           455          16.021746   \n",
       "199       199  14.938187   5984          553           553          15.938187   \n",
       "\n",
       "     blk_avg_tip  blk_avg_waiting_time  pool_length  pool_avg_gas_price  \\\n",
       "195          1.0                   0.0         1667            8.742472   \n",
       "196          1.0                   0.0         1667            8.742472   \n",
       "197          1.0                   0.0         1667            8.742472   \n",
       "198          1.0                   0.0         1667            8.742472   \n",
       "199          1.0                   0.0         1667            8.742472   \n",
       "\n",
       "     pool_avg_tip  pool_avg_waiting_time  \n",
       "195     -6.538946              179.95081  \n",
       "196     -6.245351              180.95081  \n",
       "197     -6.252471              181.95081  \n",
       "198     -6.279274              182.95081  \n",
       "199     -6.195716              183.95081  "
      ]
     },
     "execution_count": 14,
     "metadata": {},
     "output_type": "execute_result"
    }
   ],
   "source": [
    "df_jump.tail()"
   ]
  },
  {
   "cell_type": "markdown",
   "metadata": {},
   "source": [
    "## Changing expected time\n",
    "\n",
    "Next block inclusion!"
   ]
  },
  {
   "cell_type": "code",
   "execution_count": 11,
   "metadata": {},
   "outputs": [
    {
     "name": "stdout",
     "output_type": "stream",
     "text": [
      "0\n",
      "100\n"
     ]
    }
   ],
   "source": [
    "class OptiUser(User1559):\n",
    "    def expected_time(self, params):\n",
    "        return 1\n",
    "    \n",
    "df_opti = simulate(demand_scenario, OptiUser)"
   ]
  },
  {
   "cell_type": "code",
   "execution_count": 12,
   "metadata": {},
   "outputs": [
    {
     "data": {
      "text/plain": [
       "<AxesSubplot:xlabel='timestep'>"
      ]
     },
     "execution_count": 12,
     "metadata": {},
     "output_type": "execute_result"
    },
    {
     "data": {
      "image/png": "[encoded data removed]",
      "text/plain": [
       "<Figure size 432x288 with 1 Axes>"
      ]
     },
     "metadata": {
      "needs_background": "light"
     },
     "output_type": "display_data"
    }
   ],
   "source": [
    "df_opti.plot(\"timestep\", [\"basefee\", \"blk_avg_gas_price\", \"blk_avg_tip\", \"pool_avg_gas_price\"])"
   ]
  },
  {
   "cell_type": "code",
   "execution_count": 13,
   "metadata": {},
   "outputs": [
    {
     "data": {
      "text/html": [
       "<div>\n",
       "<style scoped>\n",
       "    .dataframe tbody tr th:only-of-type {\n",
       "        vertical-align: middle;\n",
       "    }\n",
       "\n",
       "    .dataframe tbody tr th {\n",
       "        vertical-align: top;\n",
       "    }\n",
       "\n",
       "    .dataframe thead th {\n",
       "        text-align: right;\n",
       "    }\n",
       "</style>\n",
       "<table border=\"1\" class=\"dataframe\">\n",
       "  <thead>\n",
       "    <tr style=\"text-align: right;\">\n",
       "      <th></th>\n",
       "      <th>timestep</th>\n",
       "      <th>basefee</th>\n",
       "      <th>users</th>\n",
       "      <th>decided_txs</th>\n",
       "      <th>included_txs</th>\n",
       "      <th>blk_avg_gas_price</th>\n",
       "      <th>blk_avg_tip</th>\n",
       "      <th>blk_avg_waiting_time</th>\n",
       "      <th>pool_length</th>\n",
       "      <th>pool_avg_gas_price</th>\n",
       "      <th>pool_avg_tip</th>\n",
       "      <th>pool_avg_waiting_time</th>\n",
       "    </tr>\n",
       "  </thead>\n",
       "  <tbody>\n",
       "    <tr>\n",
       "      <th>195</th>\n",
       "      <td>195</td>\n",
       "      <td>16.867138</td>\n",
       "      <td>6019</td>\n",
       "      <td>490</td>\n",
       "      <td>490</td>\n",
       "      <td>17.867138</td>\n",
       "      <td>1.0</td>\n",
       "      <td>0.0</td>\n",
       "      <td>6050</td>\n",
       "      <td>9.165198</td>\n",
       "      <td>-7.701939</td>\n",
       "      <td>179.536198</td>\n",
       "    </tr>\n",
       "    <tr>\n",
       "      <th>196</th>\n",
       "      <td>196</td>\n",
       "      <td>16.928281</td>\n",
       "      <td>6007</td>\n",
       "      <td>469</td>\n",
       "      <td>469</td>\n",
       "      <td>17.928281</td>\n",
       "      <td>1.0</td>\n",
       "      <td>0.0</td>\n",
       "      <td>6050</td>\n",
       "      <td>9.165198</td>\n",
       "      <td>-7.763083</td>\n",
       "      <td>180.536198</td>\n",
       "    </tr>\n",
       "    <tr>\n",
       "      <th>197</th>\n",
       "      <td>197</td>\n",
       "      <td>16.896329</td>\n",
       "      <td>5918</td>\n",
       "      <td>526</td>\n",
       "      <td>526</td>\n",
       "      <td>17.896329</td>\n",
       "      <td>1.0</td>\n",
       "      <td>0.0</td>\n",
       "      <td>6050</td>\n",
       "      <td>9.165198</td>\n",
       "      <td>-7.731131</td>\n",
       "      <td>181.536198</td>\n",
       "    </tr>\n",
       "    <tr>\n",
       "      <th>198</th>\n",
       "      <td>198</td>\n",
       "      <td>17.117248</td>\n",
       "      <td>5955</td>\n",
       "      <td>422</td>\n",
       "      <td>422</td>\n",
       "      <td>18.117248</td>\n",
       "      <td>1.0</td>\n",
       "      <td>0.0</td>\n",
       "      <td>6050</td>\n",
       "      <td>9.165198</td>\n",
       "      <td>-7.952050</td>\n",
       "      <td>182.536198</td>\n",
       "    </tr>\n",
       "    <tr>\n",
       "      <th>199</th>\n",
       "      <td>199</td>\n",
       "      <td>16.873755</td>\n",
       "      <td>5813</td>\n",
       "      <td>453</td>\n",
       "      <td>453</td>\n",
       "      <td>17.873755</td>\n",
       "      <td>1.0</td>\n",
       "      <td>0.0</td>\n",
       "      <td>6050</td>\n",
       "      <td>9.165198</td>\n",
       "      <td>-7.708557</td>\n",
       "      <td>183.536198</td>\n",
       "    </tr>\n",
       "  </tbody>\n",
       "</table>\n",
       "</div>"
      ],
      "text/plain": [
       "     timestep    basefee  users  decided_txs  included_txs  blk_avg_gas_price  \\\n",
       "195       195  16.867138   6019          490           490          17.867138   \n",
       "196       196  16.928281   6007          469           469          17.928281   \n",
       "197       197  16.896329   5918          526           526          17.896329   \n",
       "198       198  17.117248   5955          422           422          18.117248   \n",
       "199       199  16.873755   5813          453           453          17.873755   \n",
       "\n",
       "     blk_avg_tip  blk_avg_waiting_time  pool_length  pool_avg_gas_price  \\\n",
       "195          1.0                   0.0         6050            9.165198   \n",
       "196          1.0                   0.0         6050            9.165198   \n",
       "197          1.0                   0.0         6050            9.165198   \n",
       "198          1.0                   0.0         6050            9.165198   \n",
       "199          1.0                   0.0         6050            9.165198   \n",
       "\n",
       "     pool_avg_tip  pool_avg_waiting_time  \n",
       "195     -7.701939             179.536198  \n",
       "196     -7.763083             180.536198  \n",
       "197     -7.731131             181.536198  \n",
       "198     -7.952050             182.536198  \n",
       "199     -7.708557             183.536198  "
      ]
     },
     "execution_count": 13,
     "metadata": {},
     "output_type": "execute_result"
    }
   ],
   "source": [
    "df_opti.tail()"
   ]
  }
 ],
 "metadata": {
  "kernelspec": {
   "display_name": "Python 3",
   "language": "python",
   "name": "python3"
  },
  "language_info": {
   "codemirror_mode": {
    "name": "ipython",
    "version": 3
   },
   "file_extension": ".py",
   "mimetype": "text/x-python",
   "name": "python",
   "nbconvert_exporter": "python",
   "pygments_lexer": "ipython3",
   "version": "3.8.2"
  }
 },
 "nbformat": 4,
 "nbformat_minor": 4
}
