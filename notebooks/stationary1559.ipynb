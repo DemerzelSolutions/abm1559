{
 "cells": [
  {
   "cell_type": "markdown",
   "metadata": {},
   "source": [
    "# Stationary behaviour of EIP 1559 agent-based model\n",
    "\n",
    "###### July 2020, [@barnabemonnot](https://twitter.com/barnabemonnot)\n",
    "###### [Robust Incentives Group](https://github.com/ethereum/rig), Ethereum Foundation\n",
    "\n",
    "---\n",
    "\n",
    "We introduce here the building blocks of agent-based simulations of EIP1559. All the code is available in [this repo](https://github.com/barnabemonnot/abm1559), with some preliminary documentation [here](https://barnabemonnot.com/abm1559/build/html/).\n",
    "\n",
    "## The broad lines\n",
    "\n",
    "We have several entities. _Users_ come in randomly (following a Poisson process) and create and send transactions. The transactions are received by a _transaction pool_, from which the $x$ best _valid_ transactions are included in a _block_ created at fixed intervals. $x$ depends of how many valid transactions exist in the pool (e.g., how many post a gasprice exceeding the prevailing basefee in 1559 paradigm) and the block gas limit. Once transactions are included in the block, and the block is included in the _chain_, transactions are removed from the transaction pool.\n",
    "\n",
    "How do users set their parameters? Users have their own internal ways of evaluating their costs, detailed below. Users obtain a certain value from having their transaction included, which we call $v$. This value is fixed but their overall payoff decreases the longer they wait to be included. Some users have higher time-preferences than others, and their payoff decreases faster than others the longer they wait.\n",
    "\n",
    "Users expect to wait for a certain amount of time. In this essay, we set this to a fixed value -- somewhat arbitrarily we chose 5. This can be readily understood in the following way. Users estimate what their payoff will be from getting included 5 blocks from now, assuming basefee remains constant. If this payoff is negative, i.e., if their value minus the cost incurred from the wait is negative, they decide not to send the transaction to the pool (in queuing terminology, they _balk_).\n",
    "\n",
    "The scenario is set up this way to study _stationarity_: assuming some demand comes in from a fixed distribution at regular intervals, we must expect basefee to reach some stationary value. It is enough then for users, at this stationary point, to consider that 5 blocks from now basefee will still be at the same level. In the nonstationary case, when for instance a systemic change in the demand happens (e.g., the rate of Poisson arrivals increases), a user may want to hedge their bets by estimating their future payoffs in a different way, taking into account that basefee might increase instead.\n",
    "\n",
    "We make the assumption here that users choose their 1559 parameters based on their value alone. We set the transaction `max_fee` parameter to the value of the user and the `gas_premium` parameter is set to a residual value, here 1 Gwei per unit of gas. There is no loss of generality in assuming all users send the same transaction in (e.g., a simple transfer) and so all transactions have the same `gas_used` value. In 1559 paradigm, with a 20M gas limit per block, this allows at most 952 transactions to be included.\n",
    "\n",
    "## Simulation\n",
    "\n",
    "We import a few classes from our `abm1559` package."
   ]
  },
  {
   "cell_type": "code",
   "execution_count": 1,
   "metadata": {},
   "outputs": [],
   "source": [
    "import os, sys\n",
    "sys.path.insert(1, os.path.realpath(os.path.pardir))\n",
    "# You may remove the two lines above if you have installed abm1559 from pypi\n",
    "\n",
    "from abm1559.utils import constants\n",
    "\n",
    "from abm1559.txpool import TxPool\n",
    "\n",
    "from abm1559.chain import (\n",
    "    Chain,\n",
    "    Block1559,\n",
    ")\n",
    "\n",
    "from abm1559.simulator import (\n",
    "    spawn_demand,\n",
    "    decide_transactions,\n",
    "    update_basefee,\n",
    ")\n",
    "\n",
    "import pandas as pd"
   ]
  },
  {
   "cell_type": "markdown",
   "metadata": {},
   "source": [
    "This is the main code used to simulate the fee market."
   ]
  },
  {
   "cell_type": "code",
   "execution_count": 2,
   "metadata": {},
   "outputs": [
    {
     "name": "stdout",
     "output_type": "stream",
     "text": [
      "0\n",
      "100\n",
      "200\n",
      "300\n"
     ]
    }
   ],
   "source": [
    "# Instantiate a couple of things\n",
    "txpool = TxPool()\n",
    "basefee = constants[\"INITIAL_BASEFEE\"]\n",
    "chain = Chain()\n",
    "metrics = []\n",
    "\n",
    "for t in range(301):\n",
    "    if t % 100 == 0: print(t)\n",
    "    \n",
    "    # `params` are the \"environment\" of the simulation\n",
    "    params = {\n",
    "        \"basefee\": basefee,\n",
    "        \"current_block\": t,\n",
    "    }\n",
    "    \n",
    "    # We return some demand which on expectation yields 2000 new users per round\n",
    "    users = spawn_poisson_demand(t, 2000)\n",
    "    \n",
    "    # We query each new user with the current basefee value\n",
    "    # Users either return a transaction or None if they prefer to balk\n",
    "    decided_txs = decide_transactions(users, params)\n",
    "    \n",
    "    # New transactions are added to the transaction pool\n",
    "    txpool.add_txs(decided_txs)\n",
    "    \n",
    "    # The best valid transactions are taken out of the pool for inclusion\n",
    "    selected_txs = txpool.select_transactions(params)\n",
    "    txpool.remove_txs([tx.tx_hash for tx in selected_txs])\n",
    "    \n",
    "    # We create a block with these transactions\n",
    "    block = Block1559(txs = selected_txs, parent_hash = chain.current_head, height = t, basefee = basefee)\n",
    "    \n",
    "    # The block is added to the chain\n",
    "    chain.add_block(block)\n",
    "\n",
    "    # A couple of metrics we will use to monitor the simulation\n",
    "    row_metrics = {\n",
    "        \"timestep\": t,\n",
    "        \"basefee\": basefee / (10 ** 9),\n",
    "        \"users\": len(users),\n",
    "        \"decided_txs\": len(decided_txs),\n",
    "        \"included_txs\": len(selected_txs),\n",
    "        \"blk_avg_gas_price\": block.average_gas_price(),\n",
    "        \"blk_avg_tip\": block.average_tip(),\n",
    "        \"blk_avg_waiting_time\": block.average_waiting_time(),\n",
    "        \"pool_length\": txpool.pool_length,\n",
    "        \"pool_avg_gas_price\": txpool.average_gas_price(params),\n",
    "        \"pool_avg_tip\": txpool.average_tip(params),\n",
    "        \"pool_avg_waiting_time\": txpool.average_waiting_time(t),\n",
    "    }\n",
    "    metrics.append(row_metrics)\n",
    "\n",
    "    # Finally, basefee is updated and a new round starts\n",
    "    basefee = update_basefee(block, basefee)\n",
    "\n",
    "df = pd.DataFrame(metrics)"
   ]
  },
  {
   "cell_type": "markdown",
   "metadata": {},
   "source": [
    "## Results\n",
    "\n",
    "Let's print the head and tail of the data frame holding our metrics. Each row corresponds to one round of our simulation, so one block."
   ]
  },
  {
   "cell_type": "code",
   "execution_count": 3,
   "metadata": {},
   "outputs": [
    {
     "data": {
      "text/html": [
       "<div>\n",
       "<style scoped>\n",
       "    .dataframe tbody tr th:only-of-type {\n",
       "        vertical-align: middle;\n",
       "    }\n",
       "\n",
       "    .dataframe tbody tr th {\n",
       "        vertical-align: top;\n",
       "    }\n",
       "\n",
       "    .dataframe thead th {\n",
       "        text-align: right;\n",
       "    }\n",
       "</style>\n",
       "<table border=\"1\" class=\"dataframe\">\n",
       "  <thead>\n",
       "    <tr style=\"text-align: right;\">\n",
       "      <th></th>\n",
       "      <th>timestep</th>\n",
       "      <th>basefee</th>\n",
       "      <th>users</th>\n",
       "      <th>decided_txs</th>\n",
       "      <th>included_txs</th>\n",
       "      <th>blk_avg_gas_price</th>\n",
       "      <th>blk_avg_tip</th>\n",
       "      <th>blk_avg_waiting_time</th>\n",
       "      <th>pool_length</th>\n",
       "      <th>pool_avg_gas_price</th>\n",
       "      <th>pool_avg_tip</th>\n",
       "      <th>pool_avg_waiting_time</th>\n",
       "    </tr>\n",
       "  </thead>\n",
       "  <tbody>\n",
       "    <tr>\n",
       "      <th>0</th>\n",
       "      <td>0</td>\n",
       "      <td>1.000000</td>\n",
       "      <td>1982</td>\n",
       "      <td>1527</td>\n",
       "      <td>952</td>\n",
       "      <td>2.000000</td>\n",
       "      <td>1.0</td>\n",
       "      <td>0.000000</td>\n",
       "      <td>575</td>\n",
       "      <td>2.000000</td>\n",
       "      <td>1.000000</td>\n",
       "      <td>0.000000</td>\n",
       "    </tr>\n",
       "    <tr>\n",
       "      <th>1</th>\n",
       "      <td>1</td>\n",
       "      <td>1.124900</td>\n",
       "      <td>2082</td>\n",
       "      <td>1623</td>\n",
       "      <td>952</td>\n",
       "      <td>2.124900</td>\n",
       "      <td>1.0</td>\n",
       "      <td>0.602941</td>\n",
       "      <td>1246</td>\n",
       "      <td>2.124844</td>\n",
       "      <td>0.999944</td>\n",
       "      <td>0.000803</td>\n",
       "    </tr>\n",
       "    <tr>\n",
       "      <th>2</th>\n",
       "      <td>2</td>\n",
       "      <td>1.265400</td>\n",
       "      <td>2025</td>\n",
       "      <td>1513</td>\n",
       "      <td>952</td>\n",
       "      <td>2.265400</td>\n",
       "      <td>1.0</td>\n",
       "      <td>1.000000</td>\n",
       "      <td>1807</td>\n",
       "      <td>2.265283</td>\n",
       "      <td>0.999883</td>\n",
       "      <td>0.163254</td>\n",
       "    </tr>\n",
       "    <tr>\n",
       "      <th>3</th>\n",
       "      <td>3</td>\n",
       "      <td>1.423448</td>\n",
       "      <td>1974</td>\n",
       "      <td>1475</td>\n",
       "      <td>952</td>\n",
       "      <td>2.423448</td>\n",
       "      <td>1.0</td>\n",
       "      <td>1.306723</td>\n",
       "      <td>2330</td>\n",
       "      <td>2.423222</td>\n",
       "      <td>0.999774</td>\n",
       "      <td>0.368240</td>\n",
       "    </tr>\n",
       "    <tr>\n",
       "      <th>4</th>\n",
       "      <td>4</td>\n",
       "      <td>1.601237</td>\n",
       "      <td>1945</td>\n",
       "      <td>1466</td>\n",
       "      <td>952</td>\n",
       "      <td>2.601237</td>\n",
       "      <td>1.0</td>\n",
       "      <td>1.894958</td>\n",
       "      <td>2844</td>\n",
       "      <td>2.600821</td>\n",
       "      <td>0.999584</td>\n",
       "      <td>0.486639</td>\n",
       "    </tr>\n",
       "    <tr>\n",
       "      <th>...</th>\n",
       "      <td>...</td>\n",
       "      <td>...</td>\n",
       "      <td>...</td>\n",
       "      <td>...</td>\n",
       "      <td>...</td>\n",
       "      <td>...</td>\n",
       "      <td>...</td>\n",
       "      <td>...</td>\n",
       "      <td>...</td>\n",
       "      <td>...</td>\n",
       "      <td>...</td>\n",
       "      <td>...</td>\n",
       "    </tr>\n",
       "    <tr>\n",
       "      <th>296</th>\n",
       "      <td>296</td>\n",
       "      <td>11.791290</td>\n",
       "      <td>1984</td>\n",
       "      <td>436</td>\n",
       "      <td>436</td>\n",
       "      <td>12.791290</td>\n",
       "      <td>1.0</td>\n",
       "      <td>0.000000</td>\n",
       "      <td>1523</td>\n",
       "      <td>8.703576</td>\n",
       "      <td>-3.087714</td>\n",
       "      <td>282.661195</td>\n",
       "    </tr>\n",
       "    <tr>\n",
       "      <th>297</th>\n",
       "      <td>297</td>\n",
       "      <td>11.666892</td>\n",
       "      <td>2046</td>\n",
       "      <td>540</td>\n",
       "      <td>540</td>\n",
       "      <td>12.666892</td>\n",
       "      <td>1.0</td>\n",
       "      <td>0.000000</td>\n",
       "      <td>1523</td>\n",
       "      <td>8.703576</td>\n",
       "      <td>-2.963316</td>\n",
       "      <td>283.661195</td>\n",
       "    </tr>\n",
       "    <tr>\n",
       "      <th>298</th>\n",
       "      <td>298</td>\n",
       "      <td>11.862312</td>\n",
       "      <td>2107</td>\n",
       "      <td>490</td>\n",
       "      <td>490</td>\n",
       "      <td>12.862312</td>\n",
       "      <td>1.0</td>\n",
       "      <td>0.000000</td>\n",
       "      <td>1523</td>\n",
       "      <td>8.703576</td>\n",
       "      <td>-3.158737</td>\n",
       "      <td>284.661195</td>\n",
       "    </tr>\n",
       "    <tr>\n",
       "      <th>299</th>\n",
       "      <td>299</td>\n",
       "      <td>11.905313</td>\n",
       "      <td>1977</td>\n",
       "      <td>466</td>\n",
       "      <td>466</td>\n",
       "      <td>12.905313</td>\n",
       "      <td>1.0</td>\n",
       "      <td>0.000000</td>\n",
       "      <td>1523</td>\n",
       "      <td>8.703576</td>\n",
       "      <td>-3.201738</td>\n",
       "      <td>285.661195</td>\n",
       "    </tr>\n",
       "    <tr>\n",
       "      <th>300</th>\n",
       "      <td>300</td>\n",
       "      <td>11.873466</td>\n",
       "      <td>2037</td>\n",
       "      <td>474</td>\n",
       "      <td>474</td>\n",
       "      <td>12.873466</td>\n",
       "      <td>1.0</td>\n",
       "      <td>0.000000</td>\n",
       "      <td>1523</td>\n",
       "      <td>8.703576</td>\n",
       "      <td>-3.169891</td>\n",
       "      <td>286.661195</td>\n",
       "    </tr>\n",
       "  </tbody>\n",
       "</table>\n",
       "<p>301 rows × 12 columns</p>\n",
       "</div>"
      ],
      "text/plain": [
       "     timestep    basefee  users  decided_txs  included_txs  blk_avg_gas_price  \\\n",
       "0           0   1.000000   1982         1527           952           2.000000   \n",
       "1           1   1.124900   2082         1623           952           2.124900   \n",
       "2           2   1.265400   2025         1513           952           2.265400   \n",
       "3           3   1.423448   1974         1475           952           2.423448   \n",
       "4           4   1.601237   1945         1466           952           2.601237   \n",
       "..        ...        ...    ...          ...           ...                ...   \n",
       "296       296  11.791290   1984          436           436          12.791290   \n",
       "297       297  11.666892   2046          540           540          12.666892   \n",
       "298       298  11.862312   2107          490           490          12.862312   \n",
       "299       299  11.905313   1977          466           466          12.905313   \n",
       "300       300  11.873466   2037          474           474          12.873466   \n",
       "\n",
       "     blk_avg_tip  blk_avg_waiting_time  pool_length  pool_avg_gas_price  \\\n",
       "0            1.0              0.000000          575            2.000000   \n",
       "1            1.0              0.602941         1246            2.124844   \n",
       "2            1.0              1.000000         1807            2.265283   \n",
       "3            1.0              1.306723         2330            2.423222   \n",
       "4            1.0              1.894958         2844            2.600821   \n",
       "..           ...                   ...          ...                 ...   \n",
       "296          1.0              0.000000         1523            8.703576   \n",
       "297          1.0              0.000000         1523            8.703576   \n",
       "298          1.0              0.000000         1523            8.703576   \n",
       "299          1.0              0.000000         1523            8.703576   \n",
       "300          1.0              0.000000         1523            8.703576   \n",
       "\n",
       "     pool_avg_tip  pool_avg_waiting_time  \n",
       "0        1.000000               0.000000  \n",
       "1        0.999944               0.000803  \n",
       "2        0.999883               0.163254  \n",
       "3        0.999774               0.368240  \n",
       "4        0.999584               0.486639  \n",
       "..            ...                    ...  \n",
       "296     -3.087714             282.661195  \n",
       "297     -2.963316             283.661195  \n",
       "298     -3.158737             284.661195  \n",
       "299     -3.201738             285.661195  \n",
       "300     -3.169891             286.661195  \n",
       "\n",
       "[301 rows x 12 columns]"
      ]
     },
     "execution_count": 3,
     "metadata": {},
     "output_type": "execute_result"
    }
   ],
   "source": [
    "df"
   ]
  },
  {
   "cell_type": "markdown",
   "metadata": {},
   "source": [
    "At the start of the simulation we clearly see in column `users` a demand around 2000 users per round. Among these 2000 or so, around 1500 decide to send their transaction in (`decided_txs`). Eventually 952 of them are included (`included_txs`), maxing out the block gas limit. The basefee starts at 1 Gwei but steadily increases from there.\n",
    "\n",
    "By the end of the simulation, we note that `decided_txs` is always equal to `included_txs`. By this point, the basefee has risen enough to make most users find sending their transaction is unprofitable. This is exactly what we want! Users balk at the current prices.\n",
    "\n",
    "In the next chart we show the evolution of basefee and gas price. We define _tip_ as the gas price minus the basefee. Note that [it is in general **not** equal to the gas premium](https://twitter.com/barnabemonnot/status/1284271520311848960) that users set, in particular when basefee plus gas premium exceeds the max fee of the user. In the graph below, the tip hovers around 1 Gwei (the premium), but is sometimes less than 1 too, especially when users see their posted max fees approached by the prevailing basefee."
   ]
  },
  {
   "cell_type": "code",
   "execution_count": 12,
   "metadata": {},
   "outputs": [
    {
     "data": {
      "text/plain": [
       "<AxesSubplot:xlabel='timestep'>"
      ]
     },
     "execution_count": 12,
     "metadata": {},
     "output_type": "execute_result"
    },
    {
     "data": {
      "image/png": "[encoded data removed]",
      "text/plain": [
       "<Figure size 432x288 with 1 Axes>"
      ]
     },
     "metadata": {
      "needs_background": "light"
     },
     "output_type": "display_data"
    }
   ],
   "source": [
    "df.plot(\"timestep\", [\"basefee\", \"blk_avg_gas_price\", \"blk_avg_tip\", \"pool_avg_gas_price\"])"
   ]
  },
  {
   "cell_type": "markdown",
   "metadata": {},
   "source": [
    "Notice the increase at the beginning followed by a short drop? At the very beginning, the pool fills up quickly with many users hopeful to get their transactions in with a positive resulting payoff. The basefee increases until users start balking **and** the pool is exhausted. Once exhausted, basefee starts decreasing again to settle at the stationary point where the pool only includes transactions that are invalid given the stationary basefee (see also the average gas price of transaction in the pool, with the red line well below the basefee even).\n",
    "\n",
    "We can see the pool length becoming stationary in the next plot, showing the length of the pool over time."
   ]
  },
  {
   "cell_type": "code",
   "execution_count": 7,
   "metadata": {},
   "outputs": [
    {
     "data": {
      "text/plain": [
       "<AxesSubplot:xlabel='timestep'>"
      ]
     },
     "execution_count": 7,
     "metadata": {},
     "output_type": "execute_result"
    },
    {
     "data": {
      "image/png": "[encoded data removed]",
      "text/plain": [
       "<Figure size 432x288 with 1 Axes>"
      ]
     },
     "metadata": {
      "needs_background": "light"
     },
     "output_type": "display_data"
    }
   ],
   "source": [
    "df.plot(\"timestep\", \"pool_length\")"
   ]
  },
  {
   "cell_type": "markdown",
   "metadata": {},
   "source": [
    "Remaining transactions are likely from early users who did not balk even though basefee was increasing, and who were quickly outbid by others."
   ]
  }
 ],
 "metadata": {
  "kernelspec": {
   "display_name": "Python 3",
   "language": "python",
   "name": "python3"
  },
  "language_info": {
   "codemirror_mode": {
    "name": "ipython",
    "version": 3
   },
   "file_extension": ".py",
   "mimetype": "text/x-python",
   "name": "python",
   "nbconvert_exporter": "python",
   "pygments_lexer": "ipython3",
   "version": "3.8.2"
  }
 },
 "nbformat": 4,
 "nbformat_minor": 4
}
